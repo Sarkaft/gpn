{
 "cells": [
  {
   "cell_type": "code",
   "execution_count": 1,
   "id": "0109f822",
   "metadata": {},
   "outputs": [],
   "source": [
    "import matplotlib.pyplot as plt\n",
    "import pandas as pd\n",
    "import seaborn as sns\n",
    "#import tensorboard as tb"
   ]
  },
  {
   "cell_type": "code",
   "execution_count": 2,
   "id": "50cc66e7",
   "metadata": {},
   "outputs": [],
   "source": [
    "#experiment_id = \"fL8jM1JXTbC5SnpQ90JWlQ\"\n",
    "#experiment = tb.data.experimental.ExperimentFromDev(experiment_id)\n",
    "#df = experiment.get_scalars()\n",
    "#df.to_csv(\"results_logs.tsv\", sep=\"\\t\", index=False)\n",
    "#df"
   ]
  },
  {
   "cell_type": "code",
   "execution_count": 7,
   "id": "0b224805",
   "metadata": {},
   "outputs": [
    {
     "data": {
      "text/html": [
       "<div>\n",
       "<style scoped>\n",
       "    .dataframe tbody tr th:only-of-type {\n",
       "        vertical-align: middle;\n",
       "    }\n",
       "\n",
       "    .dataframe tbody tr th {\n",
       "        vertical-align: top;\n",
       "    }\n",
       "\n",
       "    .dataframe thead th {\n",
       "        text-align: right;\n",
       "    }\n",
       "</style>\n",
       "<table border=\"1\" class=\"dataframe\">\n",
       "  <thead>\n",
       "    <tr style=\"text-align: right;\">\n",
       "      <th></th>\n",
       "      <th>Model</th>\n",
       "      <th>Feature</th>\n",
       "      <th>step</th>\n",
       "      <th>value</th>\n",
       "      <th>Metric</th>\n",
       "      <th>Feature class</th>\n",
       "    </tr>\n",
       "  </thead>\n",
       "  <tbody>\n",
       "    <tr>\n",
       "      <th>0</th>\n",
       "      <td>DNABERT</td>\n",
       "      <td>auprc_DHS_Ath_flower_14_days</td>\n",
       "      <td>27080</td>\n",
       "      <td>0.634451</td>\n",
       "      <td>AUPRC</td>\n",
       "      <td>DHS</td>\n",
       "    </tr>\n",
       "    <tr>\n",
       "      <th>1</th>\n",
       "      <td>DNABERT</td>\n",
       "      <td>auprc_DHS_Ath_inflorescence_normal</td>\n",
       "      <td>27080</td>\n",
       "      <td>0.440137</td>\n",
       "      <td>AUPRC</td>\n",
       "      <td>DHS</td>\n",
       "    </tr>\n",
       "    <tr>\n",
       "      <th>2</th>\n",
       "      <td>DNABERT</td>\n",
       "      <td>auprc_DHS_Ath_leaf_normal</td>\n",
       "      <td>27080</td>\n",
       "      <td>0.465153</td>\n",
       "      <td>AUPRC</td>\n",
       "      <td>DHS</td>\n",
       "    </tr>\n",
       "    <tr>\n",
       "      <th>3</th>\n",
       "      <td>DNABERT</td>\n",
       "      <td>auprc_DHS_Ath_open_flower_normal</td>\n",
       "      <td>27080</td>\n",
       "      <td>0.505751</td>\n",
       "      <td>AUPRC</td>\n",
       "      <td>DHS</td>\n",
       "    </tr>\n",
       "    <tr>\n",
       "      <th>4</th>\n",
       "      <td>DNABERT</td>\n",
       "      <td>auprc_DHS_Ath_root_7_days</td>\n",
       "      <td>27080</td>\n",
       "      <td>0.574621</td>\n",
       "      <td>AUPRC</td>\n",
       "      <td>DHS</td>\n",
       "    </tr>\n",
       "    <tr>\n",
       "      <th>...</th>\n",
       "      <td>...</td>\n",
       "      <td>...</td>\n",
       "      <td>...</td>\n",
       "      <td>...</td>\n",
       "      <td>...</td>\n",
       "      <td>...</td>\n",
       "    </tr>\n",
       "    <tr>\n",
       "      <th>1603</th>\n",
       "      <td>DeepSEA</td>\n",
       "      <td>auroc_TFBS_AT5G63790_Ath_seedling_normal</td>\n",
       "      <td>86632</td>\n",
       "      <td>0.880922</td>\n",
       "      <td>AUROC</td>\n",
       "      <td>TFBS</td>\n",
       "    </tr>\n",
       "    <tr>\n",
       "      <th>1604</th>\n",
       "      <td>DeepSEA</td>\n",
       "      <td>auroc_TFBS_AT5G65310_Ath_seedling_ABA_treatmen...</td>\n",
       "      <td>86632</td>\n",
       "      <td>0.927400</td>\n",
       "      <td>AUROC</td>\n",
       "      <td>TFBS</td>\n",
       "    </tr>\n",
       "    <tr>\n",
       "      <th>1605</th>\n",
       "      <td>DeepSEA</td>\n",
       "      <td>auroc_TFBS_AT5G65310_Ath_seedling_normal</td>\n",
       "      <td>86632</td>\n",
       "      <td>0.922578</td>\n",
       "      <td>AUROC</td>\n",
       "      <td>TFBS</td>\n",
       "    </tr>\n",
       "    <tr>\n",
       "      <th>1606</th>\n",
       "      <td>DeepSEA</td>\n",
       "      <td>auroc_TFBS_AT5G67300_Ath_seedling_ABA_treatmen...</td>\n",
       "      <td>86632</td>\n",
       "      <td>0.923805</td>\n",
       "      <td>AUROC</td>\n",
       "      <td>TFBS</td>\n",
       "    </tr>\n",
       "    <tr>\n",
       "      <th>1607</th>\n",
       "      <td>DeepSEA</td>\n",
       "      <td>auroc_TFBS_AT5G67300_Ath_seedling_normal</td>\n",
       "      <td>86632</td>\n",
       "      <td>0.918241</td>\n",
       "      <td>AUROC</td>\n",
       "      <td>TFBS</td>\n",
       "    </tr>\n",
       "  </tbody>\n",
       "</table>\n",
       "<p>436 rows × 6 columns</p>\n",
       "</div>"
      ],
      "text/plain": [
       "        Model                                            Feature   step  \\\n",
       "0     DNABERT                       auprc_DHS_Ath_flower_14_days  27080   \n",
       "1     DNABERT                 auprc_DHS_Ath_inflorescence_normal  27080   \n",
       "2     DNABERT                          auprc_DHS_Ath_leaf_normal  27080   \n",
       "3     DNABERT                   auprc_DHS_Ath_open_flower_normal  27080   \n",
       "4     DNABERT                          auprc_DHS_Ath_root_7_days  27080   \n",
       "...       ...                                                ...    ...   \n",
       "1603  DeepSEA           auroc_TFBS_AT5G63790_Ath_seedling_normal  86632   \n",
       "1604  DeepSEA  auroc_TFBS_AT5G65310_Ath_seedling_ABA_treatmen...  86632   \n",
       "1605  DeepSEA           auroc_TFBS_AT5G65310_Ath_seedling_normal  86632   \n",
       "1606  DeepSEA  auroc_TFBS_AT5G67300_Ath_seedling_ABA_treatmen...  86632   \n",
       "1607  DeepSEA           auroc_TFBS_AT5G67300_Ath_seedling_normal  86632   \n",
       "\n",
       "         value Metric Feature class  \n",
       "0     0.634451  AUPRC           DHS  \n",
       "1     0.440137  AUPRC           DHS  \n",
       "2     0.465153  AUPRC           DHS  \n",
       "3     0.505751  AUPRC           DHS  \n",
       "4     0.574621  AUPRC           DHS  \n",
       "...        ...    ...           ...  \n",
       "1603  0.880922  AUROC          TFBS  \n",
       "1604  0.927400  AUROC          TFBS  \n",
       "1605  0.922578  AUROC          TFBS  \n",
       "1606  0.923805  AUROC          TFBS  \n",
       "1607  0.918241  AUROC          TFBS  \n",
       "\n",
       "[436 rows x 6 columns]"
      ]
     },
     "execution_count": 7,
     "metadata": {},
     "output_type": "execute_result"
    }
   ],
   "source": [
    "df = pd.read_csv(\"results_logs.tsv\", sep=\"\\t\")\n",
    "df.rename(columns={\"run\": \"Model\", \"tag\": \"Feature\", \"value\": \"value\"}, inplace=True)\n",
    "df[\"Metric\"] = df.Feature.str.split(\"_\").str[0].str.upper()\n",
    "df.Model.replace({\"version_5\": \"PlantBert\"}, inplace=True)\n",
    "#df = df[df.Model.isin([\"DeepSEA\", \"DNABERT\", \"PlantBert\"])]\n",
    "df = df[df.Model.isin([\"DeepSEA\", \"DNABERT\",])]\n",
    "df = df[df.Metric.isin([\"AUPRC\", \"AUROC\"])]\n",
    "df[\"Feature class\"] = df.Feature.str.split(\"_\").str[1]\n",
    "df"
   ]
  },
  {
   "cell_type": "code",
   "execution_count": 8,
   "id": "84ff6633",
   "metadata": {},
   "outputs": [
    {
     "data": {
      "text/plain": [
       "Name                        ConvNet_512_ft_lowlr\n",
       "State                                   finished\n",
       "Notes                                          -\n",
       "User                              gonzalobenegas\n",
       "Tags                                         NaN\n",
       "                                    ...         \n",
       "val/median_auroc_dnase                  0.953522\n",
       "val/median_auroc_histone                0.891006\n",
       "val/median_auroc_tf                     0.920882\n",
       "val/neg_median_auprc                   -0.649615\n",
       "val/neg_median_auroc                   -0.932607\n",
       "Name: 0, Length: 264, dtype: object"
      ]
     },
     "execution_count": 8,
     "metadata": {},
     "output_type": "execute_result"
    }
   ],
   "source": [
    "wandb_results = pd.read_csv(\"wandb_export_2022-07-28T19_55_53.576-07_00.csv\")\n",
    "wandb_results = wandb_results[wandb_results.Name==\"ConvNet_512_ft_lowlr\"]\n",
    "wandb_results = wandb_results.T.squeeze()\n",
    "wandb_results"
   ]
  },
  {
   "cell_type": "code",
   "execution_count": 9,
   "id": "9634779e",
   "metadata": {},
   "outputs": [
    {
     "data": {
      "text/html": [
       "<div>\n",
       "<style scoped>\n",
       "    .dataframe tbody tr th:only-of-type {\n",
       "        vertical-align: middle;\n",
       "    }\n",
       "\n",
       "    .dataframe tbody tr th {\n",
       "        vertical-align: top;\n",
       "    }\n",
       "\n",
       "    .dataframe thead th {\n",
       "        text-align: right;\n",
       "    }\n",
       "</style>\n",
       "<table border=\"1\" class=\"dataframe\">\n",
       "  <thead>\n",
       "    <tr style=\"text-align: right;\">\n",
       "      <th></th>\n",
       "      <th>Feature</th>\n",
       "      <th>value</th>\n",
       "      <th>Model</th>\n",
       "      <th>Metric</th>\n",
       "      <th>Feature class</th>\n",
       "    </tr>\n",
       "  </thead>\n",
       "  <tbody>\n",
       "    <tr>\n",
       "      <th>0</th>\n",
       "      <td>auprc_DHS_Ath_flower_14_days</td>\n",
       "      <td>0.668504</td>\n",
       "      <td>GPN</td>\n",
       "      <td>AUPRC</td>\n",
       "      <td>DHS</td>\n",
       "    </tr>\n",
       "    <tr>\n",
       "      <th>1</th>\n",
       "      <td>auprc_DHS_Ath_inflorescence_normal</td>\n",
       "      <td>0.488646</td>\n",
       "      <td>GPN</td>\n",
       "      <td>AUPRC</td>\n",
       "      <td>DHS</td>\n",
       "    </tr>\n",
       "    <tr>\n",
       "      <th>2</th>\n",
       "      <td>auprc_DHS_Ath_leaf_normal</td>\n",
       "      <td>0.480261</td>\n",
       "      <td>GPN</td>\n",
       "      <td>AUPRC</td>\n",
       "      <td>DHS</td>\n",
       "    </tr>\n",
       "    <tr>\n",
       "      <th>3</th>\n",
       "      <td>auprc_DHS_Ath_open_flower_normal</td>\n",
       "      <td>0.560342</td>\n",
       "      <td>GPN</td>\n",
       "      <td>AUPRC</td>\n",
       "      <td>DHS</td>\n",
       "    </tr>\n",
       "    <tr>\n",
       "      <th>4</th>\n",
       "      <td>auprc_DHS_Ath_root_7_days</td>\n",
       "      <td>0.602015</td>\n",
       "      <td>GPN</td>\n",
       "      <td>AUPRC</td>\n",
       "      <td>DHS</td>\n",
       "    </tr>\n",
       "    <tr>\n",
       "      <th>...</th>\n",
       "      <td>...</td>\n",
       "      <td>...</td>\n",
       "      <td>...</td>\n",
       "      <td>...</td>\n",
       "      <td>...</td>\n",
       "    </tr>\n",
       "    <tr>\n",
       "      <th>213</th>\n",
       "      <td>auroc_TFBS_AT5G63790_Ath_seedling_normal</td>\n",
       "      <td>0.883770</td>\n",
       "      <td>GPN</td>\n",
       "      <td>AUROC</td>\n",
       "      <td>TFBS</td>\n",
       "    </tr>\n",
       "    <tr>\n",
       "      <th>214</th>\n",
       "      <td>auroc_TFBS_AT5G65310_Ath_seedling_ABA_treatmen...</td>\n",
       "      <td>0.942364</td>\n",
       "      <td>GPN</td>\n",
       "      <td>AUROC</td>\n",
       "      <td>TFBS</td>\n",
       "    </tr>\n",
       "    <tr>\n",
       "      <th>215</th>\n",
       "      <td>auroc_TFBS_AT5G65310_Ath_seedling_normal</td>\n",
       "      <td>0.938047</td>\n",
       "      <td>GPN</td>\n",
       "      <td>AUROC</td>\n",
       "      <td>TFBS</td>\n",
       "    </tr>\n",
       "    <tr>\n",
       "      <th>216</th>\n",
       "      <td>auroc_TFBS_AT5G67300_Ath_seedling_ABA_treatmen...</td>\n",
       "      <td>0.936434</td>\n",
       "      <td>GPN</td>\n",
       "      <td>AUROC</td>\n",
       "      <td>TFBS</td>\n",
       "    </tr>\n",
       "    <tr>\n",
       "      <th>217</th>\n",
       "      <td>auroc_TFBS_AT5G67300_Ath_seedling_normal</td>\n",
       "      <td>0.931339</td>\n",
       "      <td>GPN</td>\n",
       "      <td>AUROC</td>\n",
       "      <td>TFBS</td>\n",
       "    </tr>\n",
       "  </tbody>\n",
       "</table>\n",
       "<p>218 rows × 5 columns</p>\n",
       "</div>"
      ],
      "text/plain": [
       "                                               Feature     value Model Metric  \\\n",
       "0                         auprc_DHS_Ath_flower_14_days  0.668504   GPN  AUPRC   \n",
       "1                   auprc_DHS_Ath_inflorescence_normal  0.488646   GPN  AUPRC   \n",
       "2                            auprc_DHS_Ath_leaf_normal  0.480261   GPN  AUPRC   \n",
       "3                     auprc_DHS_Ath_open_flower_normal  0.560342   GPN  AUPRC   \n",
       "4                            auprc_DHS_Ath_root_7_days  0.602015   GPN  AUPRC   \n",
       "..                                                 ...       ...   ...    ...   \n",
       "213           auroc_TFBS_AT5G63790_Ath_seedling_normal  0.883770   GPN  AUROC   \n",
       "214  auroc_TFBS_AT5G65310_Ath_seedling_ABA_treatmen...  0.942364   GPN  AUROC   \n",
       "215           auroc_TFBS_AT5G65310_Ath_seedling_normal  0.938047   GPN  AUROC   \n",
       "216  auroc_TFBS_AT5G67300_Ath_seedling_ABA_treatmen...  0.936434   GPN  AUROC   \n",
       "217           auroc_TFBS_AT5G67300_Ath_seedling_normal  0.931339   GPN  AUROC   \n",
       "\n",
       "    Feature class  \n",
       "0             DHS  \n",
       "1             DHS  \n",
       "2             DHS  \n",
       "3             DHS  \n",
       "4             DHS  \n",
       "..            ...  \n",
       "213          TFBS  \n",
       "214          TFBS  \n",
       "215          TFBS  \n",
       "216          TFBS  \n",
       "217          TFBS  \n",
       "\n",
       "[218 rows x 5 columns]"
      ]
     },
     "execution_count": 9,
     "metadata": {},
     "output_type": "execute_result"
    }
   ],
   "source": [
    "features = df.Feature.unique()\n",
    "values = [wandb_results[f\"test/{feature}\"] for feature in features]\n",
    "df_wandb = pd.DataFrame(dict(Feature=features, value=values))\n",
    "df_wandb[\"Model\"] = \"GPN\"\n",
    "df_wandb[\"Metric\"] = df_wandb.Feature.str.split(\"_\").str[0].str.upper()\n",
    "df_wandb[\"Feature class\"] = df_wandb.Feature.str.split(\"_\").str[1]\n",
    "df_wandb"
   ]
  },
  {
   "cell_type": "code",
   "execution_count": 10,
   "id": "6a8591d6",
   "metadata": {},
   "outputs": [],
   "source": [
    "df = pd.concat([df, df_wandb], ignore_index=True)"
   ]
  },
  {
   "cell_type": "code",
   "execution_count": null,
   "id": "67e2d18c",
   "metadata": {},
   "outputs": [],
   "source": []
  },
  {
   "cell_type": "code",
   "execution_count": 13,
   "id": "e4714ce2",
   "metadata": {},
   "outputs": [],
   "source": [
    "model_order = [\"DeepSEA\", \"DNABERT\", \"GPN\"]"
   ]
  },
  {
   "cell_type": "code",
   "execution_count": null,
   "id": "3255d6ef",
   "metadata": {},
   "outputs": [],
   "source": []
  },
  {
   "cell_type": "code",
   "execution_count": 22,
   "id": "b371ae85",
   "metadata": {},
   "outputs": [
    {
     "data": {
      "image/png": "[encoded data removed]",
      "text/plain": [
       "<Figure size 432x288 with 1 Axes>"
      ]
     },
     "metadata": {
      "needs_background": "light"
     },
     "output_type": "display_data"
    }
   ],
   "source": [
    "sns.boxplot(x=\"Feature class\", y=\"value\", hue=\"Model\", data=df[df.Metric==\"AUPRC\"], hue_order=model_order, linewidth=2.5);\n",
    "sns.despine()\n",
    "plt.ylabel(\"AUPRC\")\n",
    "plt.savefig(\"auprc_boxplot.pdf\", bbox_inches='tight')"
   ]
  },
  {
   "cell_type": "code",
   "execution_count": 16,
   "id": "10adc05a",
   "metadata": {},
   "outputs": [
    {
     "data": {
      "image/png": "[encoded data removed]",
      "text/plain": [
       "<Figure size 432x288 with 1 Axes>"
      ]
     },
     "metadata": {
      "needs_background": "light"
     },
     "output_type": "display_data"
    }
   ],
   "source": [
    "sns.boxplot(x=\"Feature class\", y=\"value\", hue=\"Model\", data=df[df.Metric==\"AUROC\"], hue_order=model_order, linewidth=2.5);\n",
    "sns.despine()\n",
    "plt.ylabel(\"AUROC\")\n",
    "plt.savefig(\"auroc_boxplot.svg\", bbox_inches='tight')"
   ]
  },
  {
   "cell_type": "code",
   "execution_count": 17,
   "id": "b0bbc55d",
   "metadata": {},
   "outputs": [],
   "source": [
    "def scatter_plot(df, metric, methods):\n",
    "    df2 = df[df.Metric==metric].pivot(index='Feature', columns='Model', values='value')\n",
    "    df2[\"Feature class\"] = df2.index.str.split(\"_\").str[1]\n",
    "    sns.scatterplot(data=df2, x=methods[0], y=methods[1], hue=\"Feature class\", palette=\"Set2\", linewidth=0)\n",
    "    vmin, vmax = df2[methods].min().min() - 1/100, df2[methods].max().max() + 1/100\n",
    "    plt.xlim([vmin, vmax])\n",
    "    plt.ylim([vmin, vmax])\n",
    "    sns.despine()\n",
    "    plt.plot([0, 1], [0, 1], \"--\", color=\"gray\")\n",
    "    plt.title(metric)\n",
    "    plt.gca().set_aspect('equal', 'box')\n",
    "    plt.savefig(f\"scatterplot_{metric}_{methods}.svg\", bbox_inches='tight')"
   ]
  },
  {
   "cell_type": "code",
   "execution_count": 18,
   "id": "ed685770",
   "metadata": {},
   "outputs": [
    {
     "data": {
      "image/png": "[encoded data removed]",
      "text/plain": [
       "<Figure size 432x288 with 1 Axes>"
      ]
     },
     "metadata": {
      "needs_background": "light"
     },
     "output_type": "display_data"
    }
   ],
   "source": [
    "scatter_plot(df, \"AUPRC\", [\"DeepSEA\", \"GPN\"])"
   ]
  },
  {
   "cell_type": "code",
   "execution_count": 19,
   "id": "90569031",
   "metadata": {},
   "outputs": [
    {
     "data": {
      "image/png": "[encoded data removed]",
      "text/plain": [
       "<Figure size 432x288 with 1 Axes>"
      ]
     },
     "metadata": {
      "needs_background": "light"
     },
     "output_type": "display_data"
    }
   ],
   "source": [
    "scatter_plot(df, \"AUPRC\", [\"DNABERT\", \"GPN\"])"
   ]
  },
  {
   "cell_type": "code",
   "execution_count": 20,
   "id": "6507565e",
   "metadata": {},
   "outputs": [
    {
     "data": {
      "image/png": "[encoded data removed]",
      "text/plain": [
       "<Figure size 432x288 with 1 Axes>"
      ]
     },
     "metadata": {
      "needs_background": "light"
     },
     "output_type": "display_data"
    }
   ],
   "source": [
    "scatter_plot(df, \"AUROC\", [\"DeepSEA\", \"GPN\"])"
   ]
  },
  {
   "cell_type": "code",
   "execution_count": 21,
   "id": "272510ca",
   "metadata": {},
   "outputs": [
    {
     "data": {
      "image/png": "[encoded data removed]",
      "text/plain": [
       "<Figure size 432x288 with 1 Axes>"
      ]
     },
     "metadata": {
      "needs_background": "light"
     },
     "output_type": "display_data"
    }
   ],
   "source": [
    "scatter_plot(df, \"AUROC\", [\"DNABERT\", \"GPN\"])"
   ]
  },
  {
   "cell_type": "code",
   "execution_count": null,
   "id": "eb7773fb",
   "metadata": {},
   "outputs": [],
   "source": []
  }
 ],
 "metadata": {
  "kernelspec": {
   "display_name": "Python 3.7",
   "language": "python",
   "name": "python3"
  },
  "language_info": {
   "codemirror_mode": {
    "name": "ipython",
    "version": 3
   },
   "file_extension": ".py",
   "mimetype": "text/x-python",
   "name": "python",
   "nbconvert_exporter": "python",
   "pygments_lexer": "ipython3",
   "version": "3.7.4"
  }
 },
 "nbformat": 4,
 "nbformat_minor": 5
}
