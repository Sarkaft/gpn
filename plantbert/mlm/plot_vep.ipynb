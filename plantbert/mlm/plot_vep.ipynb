{
 "cells": [
  {
   "cell_type": "code",
   "execution_count": 1,
   "metadata": {},
   "outputs": [],
   "source": [
    "#!pip install --user pyarrow"
   ]
  },
  {
   "cell_type": "code",
   "execution_count": 2,
   "metadata": {},
   "outputs": [
    {
     "name": "stderr",
     "output_type": "stream",
     "text": [
      "/global/software/sl-7.x86_64/modules/langs/python/3.7/lib/python3.7/site-packages/tqdm/std.py:648: FutureWarning: The Panel class is removed from pandas. Accessing it from the top-level namespace will also be removed in the next version\n",
      "  from pandas import Panel\n"
     ]
    }
   ],
   "source": [
    "import matplotlib.pyplot as plt\n",
    "import numpy as np\n",
    "import pandas as pd\n",
    "import seaborn as sns\n",
    "from tqdm import tqdm\n",
    "from scipy.stats import spearmanr, mannwhitneyu\n",
    "from scipy.special import expit as sigmoid\n",
    "\n",
    "tqdm.pandas()"
   ]
  },
  {
   "cell_type": "code",
   "execution_count": 3,
   "metadata": {},
   "outputs": [],
   "source": [
    "#cis_eQTL = pd.read_csv(\"~/Downloads/ciseqtl.csv\", sep=\"\\t\", skiprows=10) # TODO: should also get the trans-eqtl\n",
    "#cis_eQTL"
   ]
  },
  {
   "cell_type": "code",
   "execution_count": 4,
   "metadata": {},
   "outputs": [],
   "source": [
    "#df = pd.read_parquet(\"../mlm/vep.parquet\")\n",
    "#df = df[df.AN >= 2000]\n",
    "#df = df[(df.AC != 0) & (df.AC != df.AN)]\n",
    "#df[\"alt_AF\"] = df.AC / df.AN\n",
    "#df.model_llr = df.apply(lambda row: row.model_llr if row.alt_AF < 0.5 else -row.model_llr, axis=1)\n",
    "#df[\"ref_AF\"] = 1 - df.alt_AF\n",
    "#df[\"alt_AC\"] = df.AC\n",
    "#df[\"ref_AC\"] = df.AN - df.AC\n",
    "#df[\"AC\"] = df[[\"ref_AC\", \"alt_AC\"]].min(axis=1)\n",
    "#df[\"AF\"] = df[[\"ref_AF\", \"alt_AF\"]].min(axis=1)\n",
    "#df"
   ]
  },
  {
   "cell_type": "code",
   "execution_count": 5,
   "metadata": {},
   "outputs": [
    {
     "data": {
      "text/html": [
       "<div>\n",
       "<style scoped>\n",
       "    .dataframe tbody tr th:only-of-type {\n",
       "        vertical-align: middle;\n",
       "    }\n",
       "\n",
       "    .dataframe tbody tr th {\n",
       "        vertical-align: top;\n",
       "    }\n",
       "\n",
       "    .dataframe thead th {\n",
       "        text-align: right;\n",
       "    }\n",
       "</style>\n",
       "<table border=\"1\" class=\"dataframe\">\n",
       "  <thead>\n",
       "    <tr style=\"text-align: right;\">\n",
       "      <th></th>\n",
       "      <th>chromosome</th>\n",
       "      <th>pos</th>\n",
       "      <th>ref</th>\n",
       "      <th>alt</th>\n",
       "      <th>AC</th>\n",
       "      <th>AN</th>\n",
       "      <th>closest_TSS</th>\n",
       "      <th>dist_to_TSS</th>\n",
       "      <th>model_llr</th>\n",
       "      <th>alt_AF</th>\n",
       "      <th>ref_AF</th>\n",
       "      <th>alt_AC</th>\n",
       "      <th>ref_AC</th>\n",
       "      <th>AF</th>\n",
       "    </tr>\n",
       "  </thead>\n",
       "  <tbody>\n",
       "    <tr>\n",
       "      <td>0</td>\n",
       "      <td>Chr5</td>\n",
       "      <td>500</td>\n",
       "      <td>C</td>\n",
       "      <td>T</td>\n",
       "      <td>376</td>\n",
       "      <td>2078</td>\n",
       "      <td>AT5G01010.2</td>\n",
       "      <td>4494</td>\n",
       "      <td>2.236435</td>\n",
       "      <td>0.180943</td>\n",
       "      <td>0.819057</td>\n",
       "      <td>376</td>\n",
       "      <td>1702</td>\n",
       "      <td>0.180943</td>\n",
       "    </tr>\n",
       "    <tr>\n",
       "      <td>1</td>\n",
       "      <td>Chr5</td>\n",
       "      <td>504</td>\n",
       "      <td>T</td>\n",
       "      <td>C</td>\n",
       "      <td>2</td>\n",
       "      <td>2088</td>\n",
       "      <td>AT5G01010.2</td>\n",
       "      <td>4490</td>\n",
       "      <td>-2.134256</td>\n",
       "      <td>0.000958</td>\n",
       "      <td>0.999042</td>\n",
       "      <td>2</td>\n",
       "      <td>2086</td>\n",
       "      <td>0.000958</td>\n",
       "    </tr>\n",
       "    <tr>\n",
       "      <td>2</td>\n",
       "      <td>Chr5</td>\n",
       "      <td>505</td>\n",
       "      <td>A</td>\n",
       "      <td>G</td>\n",
       "      <td>4</td>\n",
       "      <td>2110</td>\n",
       "      <td>AT5G01010.2</td>\n",
       "      <td>4489</td>\n",
       "      <td>2.495054</td>\n",
       "      <td>0.001896</td>\n",
       "      <td>0.998104</td>\n",
       "      <td>4</td>\n",
       "      <td>2106</td>\n",
       "      <td>0.001896</td>\n",
       "    </tr>\n",
       "    <tr>\n",
       "      <td>3</td>\n",
       "      <td>Chr5</td>\n",
       "      <td>510</td>\n",
       "      <td>G</td>\n",
       "      <td>A</td>\n",
       "      <td>6</td>\n",
       "      <td>2122</td>\n",
       "      <td>AT5G01010.2</td>\n",
       "      <td>4484</td>\n",
       "      <td>-0.379902</td>\n",
       "      <td>0.002828</td>\n",
       "      <td>0.997172</td>\n",
       "      <td>6</td>\n",
       "      <td>2116</td>\n",
       "      <td>0.002828</td>\n",
       "    </tr>\n",
       "    <tr>\n",
       "      <td>4</td>\n",
       "      <td>Chr5</td>\n",
       "      <td>512</td>\n",
       "      <td>A</td>\n",
       "      <td>G</td>\n",
       "      <td>2</td>\n",
       "      <td>2126</td>\n",
       "      <td>AT5G01010.2</td>\n",
       "      <td>4482</td>\n",
       "      <td>-1.878045</td>\n",
       "      <td>0.000941</td>\n",
       "      <td>0.999059</td>\n",
       "      <td>2</td>\n",
       "      <td>2124</td>\n",
       "      <td>0.000941</td>\n",
       "    </tr>\n",
       "    <tr>\n",
       "      <td>...</td>\n",
       "      <td>...</td>\n",
       "      <td>...</td>\n",
       "      <td>...</td>\n",
       "      <td>...</td>\n",
       "      <td>...</td>\n",
       "      <td>...</td>\n",
       "      <td>...</td>\n",
       "      <td>...</td>\n",
       "      <td>...</td>\n",
       "      <td>...</td>\n",
       "      <td>...</td>\n",
       "      <td>...</td>\n",
       "      <td>...</td>\n",
       "      <td>...</td>\n",
       "    </tr>\n",
       "    <tr>\n",
       "      <td>99995</td>\n",
       "      <td>Chr5</td>\n",
       "      <td>1770443</td>\n",
       "      <td>G</td>\n",
       "      <td>A</td>\n",
       "      <td>930</td>\n",
       "      <td>2046</td>\n",
       "      <td>AT5G05880.1</td>\n",
       "      <td>795</td>\n",
       "      <td>-0.759698</td>\n",
       "      <td>0.545455</td>\n",
       "      <td>0.454545</td>\n",
       "      <td>1116</td>\n",
       "      <td>930</td>\n",
       "      <td>0.454545</td>\n",
       "    </tr>\n",
       "    <tr>\n",
       "      <td>99996</td>\n",
       "      <td>Chr5</td>\n",
       "      <td>1770459</td>\n",
       "      <td>A</td>\n",
       "      <td>T</td>\n",
       "      <td>30</td>\n",
       "      <td>2084</td>\n",
       "      <td>AT5G05880.1</td>\n",
       "      <td>811</td>\n",
       "      <td>-0.136648</td>\n",
       "      <td>0.014395</td>\n",
       "      <td>0.985605</td>\n",
       "      <td>30</td>\n",
       "      <td>2054</td>\n",
       "      <td>0.014395</td>\n",
       "    </tr>\n",
       "    <tr>\n",
       "      <td>99997</td>\n",
       "      <td>Chr5</td>\n",
       "      <td>1770460</td>\n",
       "      <td>T</td>\n",
       "      <td>G</td>\n",
       "      <td>20</td>\n",
       "      <td>2074</td>\n",
       "      <td>AT5G05880.1</td>\n",
       "      <td>812</td>\n",
       "      <td>-1.101603</td>\n",
       "      <td>0.009643</td>\n",
       "      <td>0.990357</td>\n",
       "      <td>20</td>\n",
       "      <td>2054</td>\n",
       "      <td>0.009643</td>\n",
       "    </tr>\n",
       "    <tr>\n",
       "      <td>99998</td>\n",
       "      <td>Chr5</td>\n",
       "      <td>1770613</td>\n",
       "      <td>G</td>\n",
       "      <td>C</td>\n",
       "      <td>2</td>\n",
       "      <td>2002</td>\n",
       "      <td>AT5G05880.1</td>\n",
       "      <td>965</td>\n",
       "      <td>0.031736</td>\n",
       "      <td>0.000999</td>\n",
       "      <td>0.999001</td>\n",
       "      <td>2</td>\n",
       "      <td>2000</td>\n",
       "      <td>0.000999</td>\n",
       "    </tr>\n",
       "    <tr>\n",
       "      <td>99999</td>\n",
       "      <td>Chr5</td>\n",
       "      <td>1770617</td>\n",
       "      <td>G</td>\n",
       "      <td>A</td>\n",
       "      <td>2</td>\n",
       "      <td>2012</td>\n",
       "      <td>AT5G05880.1</td>\n",
       "      <td>969</td>\n",
       "      <td>0.448682</td>\n",
       "      <td>0.000994</td>\n",
       "      <td>0.999006</td>\n",
       "      <td>2</td>\n",
       "      <td>2010</td>\n",
       "      <td>0.000994</td>\n",
       "    </tr>\n",
       "  </tbody>\n",
       "</table>\n",
       "<p>99996 rows × 14 columns</p>\n",
       "</div>"
      ],
      "text/plain": [
       "      chromosome      pos ref alt   AC    AN  closest_TSS  dist_to_TSS  \\\n",
       "0           Chr5      500   C   T  376  2078  AT5G01010.2         4494   \n",
       "1           Chr5      504   T   C    2  2088  AT5G01010.2         4490   \n",
       "2           Chr5      505   A   G    4  2110  AT5G01010.2         4489   \n",
       "3           Chr5      510   G   A    6  2122  AT5G01010.2         4484   \n",
       "4           Chr5      512   A   G    2  2126  AT5G01010.2         4482   \n",
       "...          ...      ...  ..  ..  ...   ...          ...          ...   \n",
       "99995       Chr5  1770443   G   A  930  2046  AT5G05880.1          795   \n",
       "99996       Chr5  1770459   A   T   30  2084  AT5G05880.1          811   \n",
       "99997       Chr5  1770460   T   G   20  2074  AT5G05880.1          812   \n",
       "99998       Chr5  1770613   G   C    2  2002  AT5G05880.1          965   \n",
       "99999       Chr5  1770617   G   A    2  2012  AT5G05880.1          969   \n",
       "\n",
       "       model_llr    alt_AF    ref_AF  alt_AC  ref_AC        AF  \n",
       "0       2.236435  0.180943  0.819057     376    1702  0.180943  \n",
       "1      -2.134256  0.000958  0.999042       2    2086  0.000958  \n",
       "2       2.495054  0.001896  0.998104       4    2106  0.001896  \n",
       "3      -0.379902  0.002828  0.997172       6    2116  0.002828  \n",
       "4      -1.878045  0.000941  0.999059       2    2124  0.000941  \n",
       "...          ...       ...       ...     ...     ...       ...  \n",
       "99995  -0.759698  0.545455  0.454545    1116     930  0.454545  \n",
       "99996  -0.136648  0.014395  0.985605      30    2054  0.014395  \n",
       "99997  -1.101603  0.009643  0.990357      20    2054  0.009643  \n",
       "99998   0.031736  0.000999  0.999001       2    2000  0.000999  \n",
       "99999   0.448682  0.000994  0.999006       2    2010  0.000994  \n",
       "\n",
       "[99996 rows x 14 columns]"
      ]
     },
     "execution_count": 5,
     "metadata": {},
     "output_type": "execute_result"
    }
   ],
   "source": [
    "model_name = \"window-128_tokenization-no_model-bert\"\n",
    "#model_name = \"window-1000_tokenization-bpe8192_model-bert\"\n",
    "df = pd.read_parquet(f\"vep_{model_name}.parquet\")\n",
    "pred_ref_cols = df.columns[df.columns.str.startswith(\"model_pred_ref_\")]\n",
    "pred_alt_cols = df.columns[df.columns.str.startswith(\"model_pred_alt_\")]\n",
    "pred_cols = np.concatenate([pred_ref_cols, pred_alt_cols])\n",
    "df = df[df.AN >= 2000]\n",
    "df = df[(df.AC != 0) & (df.AC != df.AN)]\n",
    "#df[\"AF\"] = df.AC / df.AN\n",
    "#df = df[df.AF < 0.5]\n",
    "df[\"alt_AF\"] = df.AC / df.AN\n",
    "df.model_llr = df.apply(lambda row: row.model_llr if row.alt_AF < 0.5 else -row.model_llr, axis=1)\n",
    "df[\"ref_AF\"] = 1 - df.alt_AF\n",
    "df[\"alt_AC\"] = df.AC\n",
    "df[\"ref_AC\"] = df.AN - df.AC\n",
    "df[\"AC\"] = df[[\"ref_AC\", \"alt_AC\"]].min(axis=1)\n",
    "df[\"AF\"] = df[[\"ref_AF\", \"alt_AF\"]].min(axis=1)\n",
    "df"
   ]
  },
  {
   "cell_type": "code",
   "execution_count": 6,
   "metadata": {},
   "outputs": [
    {
     "data": {
      "text/plain": [
       "<matplotlib.axes._subplots.AxesSubplot at 0x2b3712890f50>"
      ]
     },
     "execution_count": 6,
     "metadata": {},
     "output_type": "execute_result"
    },
    {
     "data": {
      "image/png": "[encoded data removed]",
      "text/plain": [
       "<Figure size 432x288 with 1 Axes>"
      ]
     },
     "metadata": {
      "needs_background": "light"
     },
     "output_type": "display_data"
    }
   ],
   "source": [
    "df.model_llr.hist()"
   ]
  },
  {
   "cell_type": "code",
   "execution_count": 7,
   "metadata": {},
   "outputs": [
    {
     "data": {
      "text/plain": [
       "SpearmanrResult(correlation=0.03599959043171414, pvalue=4.8324354659919516e-30)"
      ]
     },
     "execution_count": 7,
     "metadata": {},
     "output_type": "execute_result"
    }
   ],
   "source": [
    "spearmanr(df.AC, df.model_llr)"
   ]
  },
  {
   "cell_type": "code",
   "execution_count": 8,
   "metadata": {},
   "outputs": [
    {
     "data": {
      "text/plain": [
       "Rare       61237\n",
       "Neither    23314\n",
       "Common     15445\n",
       "Name: Status, dtype: int64"
      ]
     },
     "execution_count": 8,
     "metadata": {},
     "output_type": "execute_result"
    }
   ],
   "source": [
    "df[\"Status\"] = \"Neither\"\n",
    "df.loc[df.AC <= 10, \"Status\"] = \"Rare\"\n",
    "df.loc[df.AC > 100, \"Status\"] = \"Common\"\n",
    "df.Status.value_counts()"
   ]
  },
  {
   "cell_type": "code",
   "execution_count": 9,
   "metadata": {},
   "outputs": [
    {
     "data": {
      "text/plain": [
       "MannwhitneyuResult(statistic=446501427.5, pvalue=3.33665218001663e-27)"
      ]
     },
     "execution_count": 9,
     "metadata": {},
     "output_type": "execute_result"
    }
   ],
   "source": [
    "mannwhitneyu(df.loc[df.Status==\"Rare\", \"model_llr\"], df.loc[df.Status==\"Common\", \"model_llr\"], alternative=\"less\")"
   ]
  },
  {
   "cell_type": "code",
   "execution_count": 10,
   "metadata": {},
   "outputs": [
    {
     "data": {
      "text/plain": [
       "<matplotlib.axes._subplots.AxesSubplot at 0x2b371cd596d0>"
      ]
     },
     "execution_count": 10,
     "metadata": {},
     "output_type": "execute_result"
    },
    {
     "data": {
      "image/png": "[encoded data removed]",
      "text/plain": [
       "<Figure size 432x288 with 1 Axes>"
      ]
     },
     "metadata": {
      "needs_background": "light"
     },
     "output_type": "display_data"
    }
   ],
   "source": [
    "sns.boxplot(data=df[df.Status.isin([\"Rare\", \"Common\"])], x=\"Status\", y=\"model_llr\")"
   ]
  },
  {
   "cell_type": "code",
   "execution_count": 11,
   "metadata": {},
   "outputs": [
    {
     "data": {
      "image/png": "[encoded data removed]",
      "text/plain": [
       "<Figure size 432x432 with 1 Axes>"
      ]
     },
     "metadata": {
      "needs_background": "light"
     },
     "output_type": "display_data"
    }
   ],
   "source": [
    "plt.figure(figsize=(6, 6))\n",
    "plt.scatter(\n",
    "    np.percentile(df[df.Status==\"Common\"].model_llr, np.arange(1, 100)),\n",
    "    np.percentile(df[df.Status==\"Rare\"].model_llr, np.arange(1, 100)),\n",
    "    s=4,\n",
    ")\n",
    "plt.xlabel(\"log-likelihood ratio percentiles (Common variants)\")\n",
    "plt.ylabel(\"log-likelihood ratio percentiles (Rare variants)\")\n",
    "plt.plot([-3, 3], [-3, 3], \"--\", color=\"gray\")\n",
    "plt.gca().set_aspect('equal', 'box')"
   ]
  },
  {
   "cell_type": "code",
   "execution_count": null,
   "metadata": {},
   "outputs": [],
   "source": []
  }
 ],
 "metadata": {
  "kernelspec": {
   "display_name": "Python 3.7",
   "language": "python",
   "name": "python3"
  },
  "language_info": {
   "codemirror_mode": {
    "name": "ipython",
    "version": 3
   },
   "file_extension": ".py",
   "mimetype": "text/x-python",
   "name": "python",
   "nbconvert_exporter": "python",
   "pygments_lexer": "ipython3",
   "version": "3.7.4"
  }
 },
 "nbformat": 4,
 "nbformat_minor": 4
}
