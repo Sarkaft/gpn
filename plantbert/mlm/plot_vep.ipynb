{
 "cells": [
  {
   "cell_type": "code",
   "execution_count": 1,
   "metadata": {},
   "outputs": [],
   "source": [
    "#!pip install --user pyarrow"
   ]
  },
  {
   "cell_type": "code",
   "execution_count": 1,
   "metadata": {},
   "outputs": [],
   "source": [
    "import matplotlib.pyplot as plt\n",
    "import numpy as np\n",
    "import pandas as pd\n",
    "import seaborn as sns\n",
    "from tqdm import tqdm\n",
    "from scipy.stats import spearmanr, mannwhitneyu\n",
    "from scipy.special import expit as sigmoid\n",
    "\n",
    "#tqdm.pandas()"
   ]
  },
  {
   "cell_type": "code",
   "execution_count": 2,
   "metadata": {},
   "outputs": [],
   "source": [
    "#cis_eQTL = pd.read_csv(\"~/Downloads/ciseqtl.csv\", sep=\"\\t\", skiprows=10) # TODO: should also get the trans-eqtl\n",
    "#cis_eQTL"
   ]
  },
  {
   "cell_type": "code",
   "execution_count": 3,
   "metadata": {},
   "outputs": [],
   "source": [
    "#df = pd.read_parquet(\"../mlm/vep.parquet\")\n",
    "#df = df[df.AN >= 2000]\n",
    "#df = df[(df.AC != 0) & (df.AC != df.AN)]\n",
    "#df[\"alt_AF\"] = df.AC / df.AN\n",
    "#df.model_llr = df.apply(lambda row: row.model_llr if row.alt_AF < 0.5 else -row.model_llr, axis=1)\n",
    "#df[\"ref_AF\"] = 1 - df.alt_AF\n",
    "#df[\"alt_AC\"] = df.AC\n",
    "#df[\"ref_AC\"] = df.AN - df.AC\n",
    "#df[\"AC\"] = df[[\"ref_AC\", \"alt_AC\"]].min(axis=1)\n",
    "#df[\"AF\"] = df[[\"ref_AF\", \"alt_AF\"]].min(axis=1)\n",
    "#df"
   ]
  },
  {
   "cell_type": "code",
   "execution_count": 5,
   "metadata": {},
   "outputs": [
    {
     "data": {
      "text/html": [
       "<div>\n",
       "<style scoped>\n",
       "    .dataframe tbody tr th:only-of-type {\n",
       "        vertical-align: middle;\n",
       "    }\n",
       "\n",
       "    .dataframe tbody tr th {\n",
       "        vertical-align: top;\n",
       "    }\n",
       "\n",
       "    .dataframe thead th {\n",
       "        text-align: right;\n",
       "    }\n",
       "</style>\n",
       "<table border=\"1\" class=\"dataframe\">\n",
       "  <thead>\n",
       "    <tr style=\"text-align: right;\">\n",
       "      <th></th>\n",
       "      <th>chromosome</th>\n",
       "      <th>pos</th>\n",
       "      <th>ref</th>\n",
       "      <th>alt</th>\n",
       "      <th>AC</th>\n",
       "      <th>AN</th>\n",
       "      <th>closest_TSS</th>\n",
       "      <th>dist_to_TSS</th>\n",
       "      <th>consequence</th>\n",
       "      <th>model_llr</th>\n",
       "      <th>alt_AF</th>\n",
       "      <th>ref_AF</th>\n",
       "      <th>alt_AC</th>\n",
       "      <th>ref_AC</th>\n",
       "      <th>AF</th>\n",
       "    </tr>\n",
       "  </thead>\n",
       "  <tbody>\n",
       "    <tr>\n",
       "      <th>0</th>\n",
       "      <td>Chr5</td>\n",
       "      <td>500</td>\n",
       "      <td>C</td>\n",
       "      <td>T</td>\n",
       "      <td>376</td>\n",
       "      <td>2078</td>\n",
       "      <td>AT5G01010.2</td>\n",
       "      <td>4494</td>\n",
       "      <td>downstream_gene_variant</td>\n",
       "      <td>1.420048</td>\n",
       "      <td>0.180943</td>\n",
       "      <td>0.819057</td>\n",
       "      <td>376</td>\n",
       "      <td>1702</td>\n",
       "      <td>0.180943</td>\n",
       "    </tr>\n",
       "    <tr>\n",
       "      <th>1</th>\n",
       "      <td>Chr5</td>\n",
       "      <td>504</td>\n",
       "      <td>T</td>\n",
       "      <td>C</td>\n",
       "      <td>2</td>\n",
       "      <td>2088</td>\n",
       "      <td>AT5G01010.2</td>\n",
       "      <td>4490</td>\n",
       "      <td>intergenic_variant</td>\n",
       "      <td>-0.983859</td>\n",
       "      <td>0.000958</td>\n",
       "      <td>0.999042</td>\n",
       "      <td>2</td>\n",
       "      <td>2086</td>\n",
       "      <td>0.000958</td>\n",
       "    </tr>\n",
       "    <tr>\n",
       "      <th>2</th>\n",
       "      <td>Chr5</td>\n",
       "      <td>505</td>\n",
       "      <td>A</td>\n",
       "      <td>G</td>\n",
       "      <td>4</td>\n",
       "      <td>2110</td>\n",
       "      <td>AT5G01010.2</td>\n",
       "      <td>4489</td>\n",
       "      <td>intergenic_variant</td>\n",
       "      <td>-1.196805</td>\n",
       "      <td>0.001896</td>\n",
       "      <td>0.998104</td>\n",
       "      <td>4</td>\n",
       "      <td>2106</td>\n",
       "      <td>0.001896</td>\n",
       "    </tr>\n",
       "    <tr>\n",
       "      <th>3</th>\n",
       "      <td>Chr5</td>\n",
       "      <td>510</td>\n",
       "      <td>G</td>\n",
       "      <td>A</td>\n",
       "      <td>6</td>\n",
       "      <td>2122</td>\n",
       "      <td>AT5G01010.2</td>\n",
       "      <td>4484</td>\n",
       "      <td>intergenic_variant</td>\n",
       "      <td>1.309975</td>\n",
       "      <td>0.002828</td>\n",
       "      <td>0.997172</td>\n",
       "      <td>6</td>\n",
       "      <td>2116</td>\n",
       "      <td>0.002828</td>\n",
       "    </tr>\n",
       "    <tr>\n",
       "      <th>4</th>\n",
       "      <td>Chr5</td>\n",
       "      <td>512</td>\n",
       "      <td>A</td>\n",
       "      <td>G</td>\n",
       "      <td>2</td>\n",
       "      <td>2126</td>\n",
       "      <td>AT5G01010.2</td>\n",
       "      <td>4482</td>\n",
       "      <td>intergenic_variant</td>\n",
       "      <td>0.772574</td>\n",
       "      <td>0.000941</td>\n",
       "      <td>0.999059</td>\n",
       "      <td>2</td>\n",
       "      <td>2124</td>\n",
       "      <td>0.000941</td>\n",
       "    </tr>\n",
       "    <tr>\n",
       "      <th>...</th>\n",
       "      <td>...</td>\n",
       "      <td>...</td>\n",
       "      <td>...</td>\n",
       "      <td>...</td>\n",
       "      <td>...</td>\n",
       "      <td>...</td>\n",
       "      <td>...</td>\n",
       "      <td>...</td>\n",
       "      <td>...</td>\n",
       "      <td>...</td>\n",
       "      <td>...</td>\n",
       "      <td>...</td>\n",
       "      <td>...</td>\n",
       "      <td>...</td>\n",
       "      <td>...</td>\n",
       "    </tr>\n",
       "    <tr>\n",
       "      <th>1444080</th>\n",
       "      <td>Chr5</td>\n",
       "      <td>26974897</td>\n",
       "      <td>C</td>\n",
       "      <td>T</td>\n",
       "      <td>6</td>\n",
       "      <td>2074</td>\n",
       "      <td>AT5G67640.1</td>\n",
       "      <td>-4256</td>\n",
       "      <td>intergenic_variant</td>\n",
       "      <td>-1.600120</td>\n",
       "      <td>0.002893</td>\n",
       "      <td>0.997107</td>\n",
       "      <td>6</td>\n",
       "      <td>2068</td>\n",
       "      <td>0.002893</td>\n",
       "    </tr>\n",
       "    <tr>\n",
       "      <th>1444081</th>\n",
       "      <td>Chr5</td>\n",
       "      <td>26974907</td>\n",
       "      <td>G</td>\n",
       "      <td>A</td>\n",
       "      <td>2</td>\n",
       "      <td>2050</td>\n",
       "      <td>AT5G67640.1</td>\n",
       "      <td>-4266</td>\n",
       "      <td>intergenic_variant</td>\n",
       "      <td>0.037436</td>\n",
       "      <td>0.000976</td>\n",
       "      <td>0.999024</td>\n",
       "      <td>2</td>\n",
       "      <td>2048</td>\n",
       "      <td>0.000976</td>\n",
       "    </tr>\n",
       "    <tr>\n",
       "      <th>1444082</th>\n",
       "      <td>Chr5</td>\n",
       "      <td>26974913</td>\n",
       "      <td>C</td>\n",
       "      <td>T</td>\n",
       "      <td>6</td>\n",
       "      <td>2042</td>\n",
       "      <td>AT5G67640.1</td>\n",
       "      <td>-4272</td>\n",
       "      <td>intergenic_variant</td>\n",
       "      <td>1.037334</td>\n",
       "      <td>0.002938</td>\n",
       "      <td>0.997062</td>\n",
       "      <td>6</td>\n",
       "      <td>2036</td>\n",
       "      <td>0.002938</td>\n",
       "    </tr>\n",
       "    <tr>\n",
       "      <th>1444083</th>\n",
       "      <td>Chr5</td>\n",
       "      <td>26974918</td>\n",
       "      <td>C</td>\n",
       "      <td>T</td>\n",
       "      <td>4</td>\n",
       "      <td>2044</td>\n",
       "      <td>AT5G67640.1</td>\n",
       "      <td>-4277</td>\n",
       "      <td>intergenic_variant</td>\n",
       "      <td>-1.161967</td>\n",
       "      <td>0.001957</td>\n",
       "      <td>0.998043</td>\n",
       "      <td>4</td>\n",
       "      <td>2040</td>\n",
       "      <td>0.001957</td>\n",
       "    </tr>\n",
       "    <tr>\n",
       "      <th>1444084</th>\n",
       "      <td>Chr5</td>\n",
       "      <td>26974940</td>\n",
       "      <td>G</td>\n",
       "      <td>T</td>\n",
       "      <td>2</td>\n",
       "      <td>2004</td>\n",
       "      <td>AT5G67640.1</td>\n",
       "      <td>-4299</td>\n",
       "      <td>intergenic_variant</td>\n",
       "      <td>-0.274318</td>\n",
       "      <td>0.000998</td>\n",
       "      <td>0.999002</td>\n",
       "      <td>2</td>\n",
       "      <td>2002</td>\n",
       "      <td>0.000998</td>\n",
       "    </tr>\n",
       "  </tbody>\n",
       "</table>\n",
       "<p>1444061 rows × 15 columns</p>\n",
       "</div>"
      ],
      "text/plain": [
       "        chromosome       pos ref alt   AC    AN  closest_TSS  dist_to_TSS  \\\n",
       "0             Chr5       500   C   T  376  2078  AT5G01010.2         4494   \n",
       "1             Chr5       504   T   C    2  2088  AT5G01010.2         4490   \n",
       "2             Chr5       505   A   G    4  2110  AT5G01010.2         4489   \n",
       "3             Chr5       510   G   A    6  2122  AT5G01010.2         4484   \n",
       "4             Chr5       512   A   G    2  2126  AT5G01010.2         4482   \n",
       "...            ...       ...  ..  ..  ...   ...          ...          ...   \n",
       "1444080       Chr5  26974897   C   T    6  2074  AT5G67640.1        -4256   \n",
       "1444081       Chr5  26974907   G   A    2  2050  AT5G67640.1        -4266   \n",
       "1444082       Chr5  26974913   C   T    6  2042  AT5G67640.1        -4272   \n",
       "1444083       Chr5  26974918   C   T    4  2044  AT5G67640.1        -4277   \n",
       "1444084       Chr5  26974940   G   T    2  2004  AT5G67640.1        -4299   \n",
       "\n",
       "                     consequence  model_llr    alt_AF    ref_AF  alt_AC  \\\n",
       "0        downstream_gene_variant   1.420048  0.180943  0.819057     376   \n",
       "1             intergenic_variant  -0.983859  0.000958  0.999042       2   \n",
       "2             intergenic_variant  -1.196805  0.001896  0.998104       4   \n",
       "3             intergenic_variant   1.309975  0.002828  0.997172       6   \n",
       "4             intergenic_variant   0.772574  0.000941  0.999059       2   \n",
       "...                          ...        ...       ...       ...     ...   \n",
       "1444080       intergenic_variant  -1.600120  0.002893  0.997107       6   \n",
       "1444081       intergenic_variant   0.037436  0.000976  0.999024       2   \n",
       "1444082       intergenic_variant   1.037334  0.002938  0.997062       6   \n",
       "1444083       intergenic_variant  -1.161967  0.001957  0.998043       4   \n",
       "1444084       intergenic_variant  -0.274318  0.000998  0.999002       2   \n",
       "\n",
       "         ref_AC        AF  \n",
       "0          1702  0.180943  \n",
       "1          2086  0.000958  \n",
       "2          2106  0.001896  \n",
       "3          2116  0.002828  \n",
       "4          2124  0.000941  \n",
       "...         ...       ...  \n",
       "1444080    2068  0.002893  \n",
       "1444081    2048  0.000976  \n",
       "1444082    2036  0.002938  \n",
       "1444083    2040  0.001957  \n",
       "1444084    2002  0.000998  \n",
       "\n",
       "[1444061 rows x 15 columns]"
      ]
     },
     "execution_count": 5,
     "metadata": {},
     "output_type": "execute_result"
    }
   ],
   "source": [
    "#model_name = \"window-128_tokenization-no_model-bert\"\n",
    "#model_name = \"window-1000_tokenization-bpe8192_model-bert\"\n",
    "#model_name = \"window-128_tokenization-no_model-convnet\"\n",
    "#model_name = \"DNABERT\"\n",
    "model_name = \"window-512_tokenization-no_model-convnet\"\n",
    "\n",
    "\n",
    "df = pd.read_parquet(f\"vep_full_{model_name}.parquet\")\n",
    "pred_ref_cols = df.columns[df.columns.str.startswith(\"model_pred_ref_\")]\n",
    "pred_alt_cols = df.columns[df.columns.str.startswith(\"model_pred_alt_\")]\n",
    "pred_cols = np.concatenate([pred_ref_cols, pred_alt_cols])\n",
    "df = df[df.AN >= 2000]\n",
    "df = df[(df.AC != 0) & (df.AC != df.AN)]\n",
    "#df[\"AF\"] = df.AC / df.AN\n",
    "#df = df[df.AF < 0.5]\n",
    "df[\"alt_AF\"] = df.AC / df.AN\n",
    "df.model_llr = df.apply(lambda row: row.model_llr if row.alt_AF < 0.5 else -row.model_llr, axis=1)\n",
    "df[\"ref_AF\"] = 1 - df.alt_AF\n",
    "df[\"alt_AC\"] = df.AC\n",
    "df[\"ref_AC\"] = df.AN - df.AC\n",
    "df[\"AC\"] = df[[\"ref_AC\", \"alt_AC\"]].min(axis=1)\n",
    "df[\"AF\"] = df[[\"ref_AF\", \"alt_AF\"]].min(axis=1)\n",
    "df"
   ]
  },
  {
   "cell_type": "code",
   "execution_count": 6,
   "metadata": {},
   "outputs": [],
   "source": [
    "df.consequence = df.consequence.apply(lambda x: ','.join(sorted(list(set(x.split(\",\"))))))"
   ]
  },
  {
   "cell_type": "code",
   "execution_count": 7,
   "metadata": {},
   "outputs": [
    {
     "data": {
      "text/plain": [
       "<matplotlib.axes._subplots.AxesSubplot at 0x2ac9d305bcd0>"
      ]
     },
     "execution_count": 7,
     "metadata": {},
     "output_type": "execute_result"
    },
    {
     "data": {
      "image/png": "[encoded data removed]",
      "text/plain": [
       "<Figure size 432x288 with 1 Axes>"
      ]
     },
     "metadata": {
      "needs_background": "light"
     },
     "output_type": "display_data"
    }
   ],
   "source": [
    "df.model_llr.hist()"
   ]
  },
  {
   "cell_type": "code",
   "execution_count": 8,
   "metadata": {},
   "outputs": [
    {
     "data": {
      "text/plain": [
       "SpearmanrResult(correlation=0.0491080749554475, pvalue=0.0)"
      ]
     },
     "execution_count": 8,
     "metadata": {},
     "output_type": "execute_result"
    }
   ],
   "source": [
    "spearmanr(df.AC, df.model_llr)"
   ]
  },
  {
   "cell_type": "code",
   "execution_count": 9,
   "metadata": {},
   "outputs": [
    {
     "data": {
      "text/plain": [
       "Rare       887015\n",
       "Neither    343496\n",
       "Common     213550\n",
       "Name: Status, dtype: int64"
      ]
     },
     "execution_count": 9,
     "metadata": {},
     "output_type": "execute_result"
    }
   ],
   "source": [
    "df[\"Status\"] = \"Neither\"\n",
    "df.loc[df.AC <= 10, \"Status\"] = \"Rare\"\n",
    "df.loc[df.AC > 100, \"Status\"] = \"Common\"\n",
    "df.Status.value_counts()"
   ]
  },
  {
   "cell_type": "code",
   "execution_count": 24,
   "metadata": {},
   "outputs": [
    {
     "data": {
      "text/plain": [
       "-3.857392740249634"
      ]
     },
     "execution_count": 24,
     "metadata": {},
     "output_type": "execute_result"
    }
   ],
   "source": [
    "df.model_llr.quantile(0.01)"
   ]
  },
  {
   "cell_type": "code",
   "execution_count": 39,
   "metadata": {},
   "outputs": [
    {
     "data": {
      "text/plain": [
       "High       722031\n",
       "Neither    707589\n",
       "Low         14441\n",
       "Name: ModelScoreTier, dtype: int64"
      ]
     },
     "execution_count": 39,
     "metadata": {},
     "output_type": "execute_result"
    }
   ],
   "source": [
    "df[\"ModelScoreTier\"] = \"Neither\"\n",
    "df.loc[df.model_llr <= df.model_llr.quantile(0.01), \"ModelScoreTier\"] = \"Low\"\n",
    "df.loc[df.model_llr >= df.model_llr.quantile(0.5), \"ModelScoreTier\"] = \"High\"\n",
    "df.ModelScoreTier.value_counts()"
   ]
  },
  {
   "cell_type": "code",
   "execution_count": 40,
   "metadata": {},
   "outputs": [
    {
     "data": {
      "text/plain": [
       "Status   ModelScoreTier\n",
       "Common   High              115200\n",
       "         Low                  914\n",
       "         Neither            97436\n",
       "Neither  High              174214\n",
       "         Low                 3168\n",
       "         Neither           166114\n",
       "Rare     High              432617\n",
       "         Low                10359\n",
       "         Neither           444039\n",
       "dtype: int64"
      ]
     },
     "execution_count": 40,
     "metadata": {},
     "output_type": "execute_result"
    }
   ],
   "source": [
    "group_counts = df.groupby([\"Status\", \"ModelScoreTier\"]).size()\n",
    "group_counts"
   ]
  },
  {
   "cell_type": "code",
   "execution_count": 41,
   "metadata": {},
   "outputs": [
    {
     "data": {
      "text/plain": [
       "3.018009031381344"
      ]
     },
     "execution_count": 41,
     "metadata": {},
     "output_type": "execute_result"
    }
   ],
   "source": [
    "odds_ratio = (\n",
    "    (group_counts[\"Rare\", \"Low\"] / group_counts[\"Rare\", \"High\"]) /\n",
    "    (group_counts[\"Common\", \"Low\"] / group_counts[\"Common\", \"High\"])\n",
    ")\n",
    "odds_ratio"
   ]
  },
  {
   "cell_type": "code",
   "execution_count": 10,
   "metadata": {},
   "outputs": [
    {
     "data": {
      "text/plain": [
       "MannwhitneyuResult(statistic=86933775157.0, pvalue=0.0)"
      ]
     },
     "execution_count": 10,
     "metadata": {},
     "output_type": "execute_result"
    }
   ],
   "source": [
    "mannwhitneyu(df.loc[df.Status==\"Rare\", \"model_llr\"], df.loc[df.Status==\"Common\", \"model_llr\"], alternative=\"less\")"
   ]
  },
  {
   "cell_type": "code",
   "execution_count": 11,
   "metadata": {},
   "outputs": [
    {
     "data": {
      "text/plain": [
       "<matplotlib.axes._subplots.AxesSubplot at 0x2ac9d3126c10>"
      ]
     },
     "execution_count": 11,
     "metadata": {},
     "output_type": "execute_result"
    },
    {
     "data": {
      "image/png": "[encoded data removed]",
      "text/plain": [
       "<Figure size 432x288 with 1 Axes>"
      ]
     },
     "metadata": {
      "needs_background": "light"
     },
     "output_type": "display_data"
    }
   ],
   "source": [
    "sns.boxplot(data=df[df.Status.isin([\"Rare\", \"Common\"])], x=\"Status\", y=\"model_llr\")"
   ]
  },
  {
   "cell_type": "code",
   "execution_count": null,
   "metadata": {},
   "outputs": [],
   "source": []
  },
  {
   "cell_type": "code",
   "execution_count": 12,
   "metadata": {},
   "outputs": [
    {
     "data": {
      "image/png": "[encoded data removed]",
      "text/plain": [
       "<Figure size 432x432 with 1 Axes>"
      ]
     },
     "metadata": {
      "needs_background": "light"
     },
     "output_type": "display_data"
    }
   ],
   "source": [
    "plt.figure(figsize=(6, 6))\n",
    "plt.scatter(\n",
    "    np.percentile(df[df.Status==\"Common\"].model_llr, np.arange(1, 100)),\n",
    "    np.percentile(df[df.Status==\"Rare\"].model_llr, np.arange(1, 100)),\n",
    "    s=4,\n",
    ")\n",
    "plt.xlabel(\"log-likelihood ratio percentiles (Common variants)\")\n",
    "plt.ylabel(\"log-likelihood ratio percentiles (Rare variants)\")\n",
    "plt.plot([-3, 3], [-3, 3], \"--\", color=\"gray\")\n",
    "plt.gca().set_aspect('equal', 'box')"
   ]
  },
  {
   "cell_type": "code",
   "execution_count": 13,
   "metadata": {},
   "outputs": [
    {
     "data": {
      "text/plain": [
       "intergenic_variant                                                                                                                                   478418\n",
       "intron_variant                                                                                                                                       237750\n",
       "missense_variant                                                                                                                                     187997\n",
       "synonymous_variant                                                                                                                                   141138\n",
       "3_prime_UTR_variant                                                                                                                                   63951\n",
       "                                                                                                                                                      ...  \n",
       "non_coding_transcript_exon_variant,splice_region_variant,synonymous_variant,upstream_gene_variant                                                         1\n",
       "5_prime_UTR_variant,downstream_gene_variant,intron_variant,non_coding_transcript_exon_variant,non_coding_transcript_variant,splice_region_variant         1\n",
       "5_prime_UTR_variant,downstream_gene_variant,non_coding_transcript_exon_variant,non_coding_transcript_variant,splice_donor_variant                         1\n",
       "3_prime_UTR_variant,intron_variant,non_coding_transcript_exon_variant,non_coding_transcript_variant,stop_gained                                           1\n",
       "3_prime_UTR_variant,non_coding_transcript_exon_variant,non_coding_transcript_variant,splice_acceptor_variant                                              1\n",
       "Name: consequence, Length: 560, dtype: int64"
      ]
     },
     "execution_count": 13,
     "metadata": {},
     "output_type": "execute_result"
    }
   ],
   "source": [
    "df.consequence.value_counts()"
   ]
  },
  {
   "cell_type": "code",
   "execution_count": 14,
   "metadata": {},
   "outputs": [
    {
     "data": {
      "text/plain": [
       "intergenic_variant                               478418\n",
       "intron_variant                                   237750\n",
       "missense_variant                                 187997\n",
       "synonymous_variant                               141138\n",
       "3_prime_UTR_variant                               63951\n",
       "upstream_gene_variant                             58486\n",
       "5_prime_UTR_variant                               48786\n",
       "downstream_gene_variant                           47564\n",
       "3_prime_UTR_variant,downstream_gene_variant       20348\n",
       "intron_variant,splice_region_variant              19555\n",
       "5_prime_UTR_variant,intron_variant                12675\n",
       "5_prime_UTR_variant,upstream_gene_variant         10623\n",
       "non_coding_transcript_exon_variant                 9746\n",
       "downstream_gene_variant,upstream_gene_variant      9600\n",
       "3_prime_UTR_variant,intron_variant                 8428\n",
       "3_prime_UTR_variant,missense_variant               5823\n",
       "3_prime_UTR_variant,upstream_gene_variant          4890\n",
       "3_prime_UTR_variant,synonymous_variant             4301\n",
       "intron_variant,upstream_gene_variant               4115\n",
       "intron_variant,missense_variant                    3955\n",
       "Name: consequence, dtype: int64"
      ]
     },
     "execution_count": 14,
     "metadata": {},
     "output_type": "execute_result"
    }
   ],
   "source": [
    "df.consequence.value_counts().head(20)"
   ]
  },
  {
   "cell_type": "code",
   "execution_count": 15,
   "metadata": {},
   "outputs": [
    {
     "data": {
      "text/plain": [
       "3478"
      ]
     },
     "execution_count": 15,
     "metadata": {},
     "output_type": "execute_result"
    }
   ],
   "source": [
    "(df.consequence==\"stop_gained\").sum()"
   ]
  },
  {
   "cell_type": "code",
   "execution_count": 16,
   "metadata": {},
   "outputs": [
    {
     "data": {
      "text/html": [
       "<div>\n",
       "<style scoped>\n",
       "    .dataframe tbody tr th:only-of-type {\n",
       "        vertical-align: middle;\n",
       "    }\n",
       "\n",
       "    .dataframe tbody tr th {\n",
       "        vertical-align: top;\n",
       "    }\n",
       "\n",
       "    .dataframe thead th {\n",
       "        text-align: right;\n",
       "    }\n",
       "</style>\n",
       "<table border=\"1\" class=\"dataframe\">\n",
       "  <thead>\n",
       "    <tr style=\"text-align: right;\">\n",
       "      <th></th>\n",
       "      <th>mean_model_llr</th>\n",
       "      <th>counts</th>\n",
       "    </tr>\n",
       "    <tr>\n",
       "      <th>consequence</th>\n",
       "      <th></th>\n",
       "      <th></th>\n",
       "    </tr>\n",
       "  </thead>\n",
       "  <tbody>\n",
       "    <tr>\n",
       "      <th>stop_gained</th>\n",
       "      <td>-2.339747</td>\n",
       "      <td>3478</td>\n",
       "    </tr>\n",
       "    <tr>\n",
       "      <th>5_prime_UTR_variant</th>\n",
       "      <td>-0.375604</td>\n",
       "      <td>48786</td>\n",
       "    </tr>\n",
       "    <tr>\n",
       "      <th>intron_variant,splice_region_variant</th>\n",
       "      <td>-0.373335</td>\n",
       "      <td>19555</td>\n",
       "    </tr>\n",
       "    <tr>\n",
       "      <th>5_prime_UTR_variant,upstream_gene_variant</th>\n",
       "      <td>-0.361222</td>\n",
       "      <td>10623</td>\n",
       "    </tr>\n",
       "    <tr>\n",
       "      <th>5_prime_UTR_variant,downstream_gene_variant</th>\n",
       "      <td>-0.348957</td>\n",
       "      <td>3355</td>\n",
       "    </tr>\n",
       "    <tr>\n",
       "      <th>intergenic_variant</th>\n",
       "      <td>-0.335943</td>\n",
       "      <td>478418</td>\n",
       "    </tr>\n",
       "    <tr>\n",
       "      <th>5_prime_UTR_variant,missense_variant</th>\n",
       "      <td>-0.308173</td>\n",
       "      <td>3610</td>\n",
       "    </tr>\n",
       "    <tr>\n",
       "      <th>5_prime_UTR_variant,intron_variant</th>\n",
       "      <td>-0.293068</td>\n",
       "      <td>12675</td>\n",
       "    </tr>\n",
       "    <tr>\n",
       "      <th>missense_variant</th>\n",
       "      <td>-0.288841</td>\n",
       "      <td>187997</td>\n",
       "    </tr>\n",
       "    <tr>\n",
       "      <th>downstream_gene_variant,missense_variant</th>\n",
       "      <td>-0.276457</td>\n",
       "      <td>3868</td>\n",
       "    </tr>\n",
       "    <tr>\n",
       "      <th>downstream_gene_variant,upstream_gene_variant</th>\n",
       "      <td>-0.261673</td>\n",
       "      <td>9600</td>\n",
       "    </tr>\n",
       "    <tr>\n",
       "      <th>3_prime_UTR_variant,missense_variant</th>\n",
       "      <td>-0.251048</td>\n",
       "      <td>5823</td>\n",
       "    </tr>\n",
       "    <tr>\n",
       "      <th>intron_variant,missense_variant</th>\n",
       "      <td>-0.243788</td>\n",
       "      <td>3955</td>\n",
       "    </tr>\n",
       "    <tr>\n",
       "      <th>upstream_gene_variant</th>\n",
       "      <td>-0.243243</td>\n",
       "      <td>58486</td>\n",
       "    </tr>\n",
       "    <tr>\n",
       "      <th>intron_variant,upstream_gene_variant</th>\n",
       "      <td>-0.242287</td>\n",
       "      <td>4115</td>\n",
       "    </tr>\n",
       "    <tr>\n",
       "      <th>3_prime_UTR_variant,upstream_gene_variant</th>\n",
       "      <td>-0.223199</td>\n",
       "      <td>4890</td>\n",
       "    </tr>\n",
       "    <tr>\n",
       "      <th>3_prime_UTR_variant</th>\n",
       "      <td>-0.191525</td>\n",
       "      <td>63951</td>\n",
       "    </tr>\n",
       "    <tr>\n",
       "      <th>downstream_gene_variant,intron_variant</th>\n",
       "      <td>-0.188320</td>\n",
       "      <td>3495</td>\n",
       "    </tr>\n",
       "    <tr>\n",
       "      <th>downstream_gene_variant</th>\n",
       "      <td>-0.175682</td>\n",
       "      <td>47564</td>\n",
       "    </tr>\n",
       "    <tr>\n",
       "      <th>synonymous_variant</th>\n",
       "      <td>-0.173946</td>\n",
       "      <td>141138</td>\n",
       "    </tr>\n",
       "    <tr>\n",
       "      <th>non_coding_transcript_exon_variant</th>\n",
       "      <td>-0.169185</td>\n",
       "      <td>9746</td>\n",
       "    </tr>\n",
       "    <tr>\n",
       "      <th>intron_variant</th>\n",
       "      <td>-0.168973</td>\n",
       "      <td>237750</td>\n",
       "    </tr>\n",
       "    <tr>\n",
       "      <th>3_prime_UTR_variant,downstream_gene_variant</th>\n",
       "      <td>-0.159432</td>\n",
       "      <td>20348</td>\n",
       "    </tr>\n",
       "    <tr>\n",
       "      <th>3_prime_UTR_variant,intron_variant</th>\n",
       "      <td>-0.138523</td>\n",
       "      <td>8428</td>\n",
       "    </tr>\n",
       "    <tr>\n",
       "      <th>3_prime_UTR_variant,synonymous_variant</th>\n",
       "      <td>-0.135053</td>\n",
       "      <td>4301</td>\n",
       "    </tr>\n",
       "  </tbody>\n",
       "</table>\n",
       "</div>"
      ],
      "text/plain": [
       "                                               mean_model_llr  counts\n",
       "consequence                                                          \n",
       "stop_gained                                         -2.339747    3478\n",
       "5_prime_UTR_variant                                 -0.375604   48786\n",
       "intron_variant,splice_region_variant                -0.373335   19555\n",
       "5_prime_UTR_variant,upstream_gene_variant           -0.361222   10623\n",
       "5_prime_UTR_variant,downstream_gene_variant         -0.348957    3355\n",
       "intergenic_variant                                  -0.335943  478418\n",
       "5_prime_UTR_variant,missense_variant                -0.308173    3610\n",
       "5_prime_UTR_variant,intron_variant                  -0.293068   12675\n",
       "missense_variant                                    -0.288841  187997\n",
       "downstream_gene_variant,missense_variant            -0.276457    3868\n",
       "downstream_gene_variant,upstream_gene_variant       -0.261673    9600\n",
       "3_prime_UTR_variant,missense_variant                -0.251048    5823\n",
       "intron_variant,missense_variant                     -0.243788    3955\n",
       "upstream_gene_variant                               -0.243243   58486\n",
       "intron_variant,upstream_gene_variant                -0.242287    4115\n",
       "3_prime_UTR_variant,upstream_gene_variant           -0.223199    4890\n",
       "3_prime_UTR_variant                                 -0.191525   63951\n",
       "downstream_gene_variant,intron_variant              -0.188320    3495\n",
       "downstream_gene_variant                             -0.175682   47564\n",
       "synonymous_variant                                  -0.173946  141138\n",
       "non_coding_transcript_exon_variant                  -0.169185    9746\n",
       "intron_variant                                      -0.168973  237750\n",
       "3_prime_UTR_variant,downstream_gene_variant         -0.159432   20348\n",
       "3_prime_UTR_variant,intron_variant                  -0.138523    8428\n",
       "3_prime_UTR_variant,synonymous_variant              -0.135053    4301"
      ]
     },
     "execution_count": 16,
     "metadata": {},
     "output_type": "execute_result"
    }
   ],
   "source": [
    "df2 = df.groupby(\"consequence\").agg({\"model_llr\": \"mean\", \"pos\": \"size\"}).rename(columns={\"model_llr\": \"mean_model_llr\", \"pos\": \"counts\"})\n",
    "df2 = df2[df2.counts >= 3000].sort_values(\"mean_model_llr\")\n",
    "#df2 = df2[df2.counts >= 250].sort_values(\"mean_model_llr\")\n",
    "df2"
   ]
  },
  {
   "cell_type": "code",
   "execution_count": 17,
   "metadata": {},
   "outputs": [
    {
     "data": {
      "image/png": "[encoded data removed]",
      "text/plain": [
       "<Figure size 288x576 with 1 Axes>"
      ]
     },
     "metadata": {
      "needs_background": "light"
     },
     "output_type": "display_data"
    }
   ],
   "source": [
    "plt.figure(figsize=(4,8))\n",
    "ax = sns.barplot(data=df2.reset_index(), y=\"consequence\", x=\"mean_model_llr\", color=\"C0\")\n",
    "#ax.set_xticklabels(ax.get_xticklabels(),rotation=90);\n",
    "plt.savefig(\"llr_by_consequence.pdf\", bbox_inches='tight')"
   ]
  },
  {
   "cell_type": "code",
   "execution_count": 18,
   "metadata": {},
   "outputs": [
    {
     "data": {
      "image/png": "[encoded data removed]",
      "text/plain": [
       "<Figure size 432x288 with 1 Axes>"
      ]
     },
     "metadata": {
      "needs_background": "light"
     },
     "output_type": "display_data"
    }
   ],
   "source": [
    "ax = sns.barplot(data=df[df.consequence.isin(df.consequence.value_counts().head(8).index)], x=\"consequence\", y=\"model_llr\")\n",
    "ax.set_xticklabels(ax.get_xticklabels(),rotation=90);"
   ]
  },
  {
   "cell_type": "code",
   "execution_count": 19,
   "metadata": {},
   "outputs": [
    {
     "data": {
      "text/html": [
       "<div>\n",
       "<style scoped>\n",
       "    .dataframe tbody tr th:only-of-type {\n",
       "        vertical-align: middle;\n",
       "    }\n",
       "\n",
       "    .dataframe tbody tr th {\n",
       "        vertical-align: top;\n",
       "    }\n",
       "\n",
       "    .dataframe thead th {\n",
       "        text-align: right;\n",
       "    }\n",
       "</style>\n",
       "<table border=\"1\" class=\"dataframe\">\n",
       "  <thead>\n",
       "    <tr style=\"text-align: right;\">\n",
       "      <th></th>\n",
       "      <th>chromosome</th>\n",
       "      <th>pos</th>\n",
       "      <th>ref</th>\n",
       "      <th>alt</th>\n",
       "      <th>AC</th>\n",
       "      <th>AN</th>\n",
       "      <th>closest_TSS</th>\n",
       "      <th>dist_to_TSS</th>\n",
       "      <th>consequence</th>\n",
       "      <th>model_llr</th>\n",
       "      <th>alt_AF</th>\n",
       "      <th>ref_AF</th>\n",
       "      <th>alt_AC</th>\n",
       "      <th>ref_AC</th>\n",
       "      <th>AF</th>\n",
       "      <th>Status</th>\n",
       "    </tr>\n",
       "  </thead>\n",
       "  <tbody>\n",
       "    <tr>\n",
       "      <th>53345</th>\n",
       "      <td>Chr5</td>\n",
       "      <td>902185</td>\n",
       "      <td>A</td>\n",
       "      <td>G</td>\n",
       "      <td>230</td>\n",
       "      <td>2240</td>\n",
       "      <td>AT5G03560.2</td>\n",
       "      <td>563</td>\n",
       "      <td>intron_variant,missense_variant</td>\n",
       "      <td>0.059404</td>\n",
       "      <td>0.102679</td>\n",
       "      <td>0.897321</td>\n",
       "      <td>230</td>\n",
       "      <td>2010</td>\n",
       "      <td>0.102679</td>\n",
       "      <td>Common</td>\n",
       "    </tr>\n",
       "    <tr>\n",
       "      <th>53351</th>\n",
       "      <td>Chr5</td>\n",
       "      <td>902307</td>\n",
       "      <td>T</td>\n",
       "      <td>C</td>\n",
       "      <td>234</td>\n",
       "      <td>2236</td>\n",
       "      <td>AT5G03560.2</td>\n",
       "      <td>441</td>\n",
       "      <td>intron_variant</td>\n",
       "      <td>1.410567</td>\n",
       "      <td>0.104651</td>\n",
       "      <td>0.895349</td>\n",
       "      <td>234</td>\n",
       "      <td>2002</td>\n",
       "      <td>0.104651</td>\n",
       "      <td>Common</td>\n",
       "    </tr>\n",
       "  </tbody>\n",
       "</table>\n",
       "</div>"
      ],
      "text/plain": [
       "      chromosome     pos ref alt   AC    AN  closest_TSS  dist_to_TSS  \\\n",
       "53345       Chr5  902185   A   G  230  2240  AT5G03560.2          563   \n",
       "53351       Chr5  902307   T   C  234  2236  AT5G03560.2          441   \n",
       "\n",
       "                           consequence  model_llr    alt_AF    ref_AF  alt_AC  \\\n",
       "53345  intron_variant,missense_variant   0.059404  0.102679  0.897321     230   \n",
       "53351                   intron_variant   1.410567  0.104651  0.895349     234   \n",
       "\n",
       "       ref_AC        AF  Status  \n",
       "53345    2010  0.102679  Common  \n",
       "53351    2002  0.104651  Common  "
      ]
     },
     "execution_count": 19,
     "metadata": {},
     "output_type": "execute_result"
    }
   ],
   "source": [
    "# https://aragwas.1001genomes.org/#/gene/AT5G03560\n",
    "df[(df.pos.isin([902307, 902185]))]"
   ]
  },
  {
   "cell_type": "code",
   "execution_count": 20,
   "metadata": {},
   "outputs": [
    {
     "data": {
      "text/html": [
       "<div>\n",
       "<style scoped>\n",
       "    .dataframe tbody tr th:only-of-type {\n",
       "        vertical-align: middle;\n",
       "    }\n",
       "\n",
       "    .dataframe tbody tr th {\n",
       "        vertical-align: top;\n",
       "    }\n",
       "\n",
       "    .dataframe thead th {\n",
       "        text-align: right;\n",
       "    }\n",
       "</style>\n",
       "<table border=\"1\" class=\"dataframe\">\n",
       "  <thead>\n",
       "    <tr style=\"text-align: right;\">\n",
       "      <th></th>\n",
       "      <th>chromosome</th>\n",
       "      <th>pos</th>\n",
       "      <th>ref</th>\n",
       "      <th>alt</th>\n",
       "      <th>AC</th>\n",
       "      <th>AN</th>\n",
       "      <th>closest_TSS</th>\n",
       "      <th>dist_to_TSS</th>\n",
       "      <th>consequence</th>\n",
       "      <th>model_llr</th>\n",
       "      <th>alt_AF</th>\n",
       "      <th>ref_AF</th>\n",
       "      <th>alt_AC</th>\n",
       "      <th>ref_AC</th>\n",
       "      <th>AF</th>\n",
       "      <th>Status</th>\n",
       "    </tr>\n",
       "  </thead>\n",
       "  <tbody>\n",
       "    <tr>\n",
       "      <th>249823</th>\n",
       "      <td>Chr5</td>\n",
       "      <td>4991952</td>\n",
       "      <td>G</td>\n",
       "      <td>C</td>\n",
       "      <td>76</td>\n",
       "      <td>2224</td>\n",
       "      <td>AT5G15380.1</td>\n",
       "      <td>605</td>\n",
       "      <td>missense_variant</td>\n",
       "      <td>-0.966936</td>\n",
       "      <td>0.034173</td>\n",
       "      <td>0.965827</td>\n",
       "      <td>76</td>\n",
       "      <td>2148</td>\n",
       "      <td>0.034173</td>\n",
       "      <td>Neither</td>\n",
       "    </tr>\n",
       "    <tr>\n",
       "      <th>249874</th>\n",
       "      <td>Chr5</td>\n",
       "      <td>4993063</td>\n",
       "      <td>A</td>\n",
       "      <td>T</td>\n",
       "      <td>76</td>\n",
       "      <td>2174</td>\n",
       "      <td>AT5G15380.1</td>\n",
       "      <td>1716</td>\n",
       "      <td>intron_variant</td>\n",
       "      <td>0.417465</td>\n",
       "      <td>0.034959</td>\n",
       "      <td>0.965041</td>\n",
       "      <td>76</td>\n",
       "      <td>2098</td>\n",
       "      <td>0.034959</td>\n",
       "      <td>Neither</td>\n",
       "    </tr>\n",
       "    <tr>\n",
       "      <th>249939</th>\n",
       "      <td>Chr5</td>\n",
       "      <td>4994504</td>\n",
       "      <td>A</td>\n",
       "      <td>C</td>\n",
       "      <td>78</td>\n",
       "      <td>2232</td>\n",
       "      <td>AT5G15390.1</td>\n",
       "      <td>-641</td>\n",
       "      <td>missense_variant</td>\n",
       "      <td>0.290868</td>\n",
       "      <td>0.034946</td>\n",
       "      <td>0.965054</td>\n",
       "      <td>78</td>\n",
       "      <td>2154</td>\n",
       "      <td>0.034946</td>\n",
       "      <td>Neither</td>\n",
       "    </tr>\n",
       "  </tbody>\n",
       "</table>\n",
       "</div>"
      ],
      "text/plain": [
       "       chromosome      pos ref alt  AC    AN  closest_TSS  dist_to_TSS  \\\n",
       "249823       Chr5  4991952   G   C  76  2224  AT5G15380.1          605   \n",
       "249874       Chr5  4993063   A   T  76  2174  AT5G15380.1         1716   \n",
       "249939       Chr5  4994504   A   C  78  2232  AT5G15390.1         -641   \n",
       "\n",
       "             consequence  model_llr    alt_AF    ref_AF  alt_AC  ref_AC  \\\n",
       "249823  missense_variant  -0.966936  0.034173  0.965827      76    2148   \n",
       "249874    intron_variant   0.417465  0.034959  0.965041      76    2098   \n",
       "249939  missense_variant   0.290868  0.034946  0.965054      78    2154   \n",
       "\n",
       "              AF   Status  \n",
       "249823  0.034173  Neither  \n",
       "249874  0.034959  Neither  \n",
       "249939  0.034946  Neither  "
      ]
     },
     "execution_count": 20,
     "metadata": {},
     "output_type": "execute_result"
    }
   ],
   "source": [
    "# https://aragwas.1001genomes.org/#/gene/AT5G15380\n",
    "df[(df.pos.isin([4991952, 4993063, 4994504]))]"
   ]
  },
  {
   "cell_type": "code",
   "execution_count": 21,
   "metadata": {},
   "outputs": [
    {
     "data": {
      "text/html": [
       "<div>\n",
       "<style scoped>\n",
       "    .dataframe tbody tr th:only-of-type {\n",
       "        vertical-align: middle;\n",
       "    }\n",
       "\n",
       "    .dataframe tbody tr th {\n",
       "        vertical-align: top;\n",
       "    }\n",
       "\n",
       "    .dataframe thead th {\n",
       "        text-align: right;\n",
       "    }\n",
       "</style>\n",
       "<table border=\"1\" class=\"dataframe\">\n",
       "  <thead>\n",
       "    <tr style=\"text-align: right;\">\n",
       "      <th></th>\n",
       "      <th>chromosome</th>\n",
       "      <th>pos</th>\n",
       "      <th>ref</th>\n",
       "      <th>alt</th>\n",
       "      <th>AC</th>\n",
       "      <th>AN</th>\n",
       "      <th>closest_TSS</th>\n",
       "      <th>dist_to_TSS</th>\n",
       "      <th>consequence</th>\n",
       "      <th>model_llr</th>\n",
       "      <th>alt_AF</th>\n",
       "      <th>ref_AF</th>\n",
       "      <th>alt_AC</th>\n",
       "      <th>ref_AC</th>\n",
       "      <th>AF</th>\n",
       "      <th>Status</th>\n",
       "    </tr>\n",
       "  </thead>\n",
       "  <tbody>\n",
       "    <tr>\n",
       "      <th>53485</th>\n",
       "      <td>Chr5</td>\n",
       "      <td>904774</td>\n",
       "      <td>T</td>\n",
       "      <td>C</td>\n",
       "      <td>164</td>\n",
       "      <td>2230</td>\n",
       "      <td>AT5G03570.1</td>\n",
       "      <td>1018</td>\n",
       "      <td>missense_variant</td>\n",
       "      <td>-2.199468</td>\n",
       "      <td>0.073543</td>\n",
       "      <td>0.926457</td>\n",
       "      <td>164</td>\n",
       "      <td>2066</td>\n",
       "      <td>0.073543</td>\n",
       "      <td>Common</td>\n",
       "    </tr>\n",
       "  </tbody>\n",
       "</table>\n",
       "</div>"
      ],
      "text/plain": [
       "      chromosome     pos ref alt   AC    AN  closest_TSS  dist_to_TSS  \\\n",
       "53485       Chr5  904774   T   C  164  2230  AT5G03570.1         1018   \n",
       "\n",
       "            consequence  model_llr    alt_AF    ref_AF  alt_AC  ref_AC  \\\n",
       "53485  missense_variant  -2.199468  0.073543  0.926457     164    2066   \n",
       "\n",
       "             AF  Status  \n",
       "53485  0.073543  Common  "
      ]
     },
     "execution_count": 21,
     "metadata": {},
     "output_type": "execute_result"
    }
   ],
   "source": [
    "df[(df.pos.isin([903797, 903915, 904774]))]"
   ]
  },
  {
   "cell_type": "code",
   "execution_count": null,
   "metadata": {},
   "outputs": [],
   "source": []
  }
 ],
 "metadata": {
  "kernelspec": {
   "display_name": "Python 3.7",
   "language": "python",
   "name": "python3"
  },
  "language_info": {
   "codemirror_mode": {
    "name": "ipython",
    "version": 3
   },
   "file_extension": ".py",
   "mimetype": "text/x-python",
   "name": "python",
   "nbconvert_exporter": "python",
   "pygments_lexer": "ipython3",
   "version": "3.7.4"
  }
 },
 "nbformat": 4,
 "nbformat_minor": 4
}
