{
 "cells": [
  {
   "cell_type": "code",
   "execution_count": 1,
   "metadata": {},
   "outputs": [],
   "source": [
    "#!pip install --user pyarrow"
   ]
  },
  {
   "cell_type": "code",
   "execution_count": 1,
   "metadata": {},
   "outputs": [
    {
     "name": "stderr",
     "output_type": "stream",
     "text": [
      "/global/software/sl-7.x86_64/modules/langs/python/3.7/lib/python3.7/site-packages/tqdm/std.py:648: FutureWarning: The Panel class is removed from pandas. Accessing it from the top-level namespace will also be removed in the next version\n",
      "  from pandas import Panel\n"
     ]
    }
   ],
   "source": [
    "import matplotlib.pyplot as plt\n",
    "import numpy as np\n",
    "import pandas as pd\n",
    "import seaborn as sns\n",
    "from tqdm import tqdm\n",
    "from scipy.stats import spearmanr, mannwhitneyu\n",
    "from scipy.special import expit as sigmoid\n",
    "\n",
    "tqdm.pandas()"
   ]
  },
  {
   "cell_type": "code",
   "execution_count": 3,
   "metadata": {},
   "outputs": [],
   "source": [
    "#cis_eQTL = pd.read_csv(\"~/Downloads/ciseqtl.csv\", sep=\"\\t\", skiprows=10) # TODO: should also get the trans-eqtl\n",
    "#cis_eQTL"
   ]
  },
  {
   "cell_type": "code",
   "execution_count": 4,
   "metadata": {},
   "outputs": [],
   "source": [
    "#df = pd.read_parquet(\"../mlm/vep.parquet\")\n",
    "#df = df[df.AN >= 2000]\n",
    "#df = df[(df.AC != 0) & (df.AC != df.AN)]\n",
    "#df[\"alt_AF\"] = df.AC / df.AN\n",
    "#df.model_llr = df.apply(lambda row: row.model_llr if row.alt_AF < 0.5 else -row.model_llr, axis=1)\n",
    "#df[\"ref_AF\"] = 1 - df.alt_AF\n",
    "#df[\"alt_AC\"] = df.AC\n",
    "#df[\"ref_AC\"] = df.AN - df.AC\n",
    "#df[\"AC\"] = df[[\"ref_AC\", \"alt_AC\"]].min(axis=1)\n",
    "#df[\"AF\"] = df[[\"ref_AF\", \"alt_AF\"]].min(axis=1)\n",
    "#df"
   ]
  },
  {
   "cell_type": "code",
   "execution_count": 41,
   "metadata": {},
   "outputs": [
    {
     "data": {
      "text/html": [
       "<div>\n",
       "<style scoped>\n",
       "    .dataframe tbody tr th:only-of-type {\n",
       "        vertical-align: middle;\n",
       "    }\n",
       "\n",
       "    .dataframe tbody tr th {\n",
       "        vertical-align: top;\n",
       "    }\n",
       "\n",
       "    .dataframe thead th {\n",
       "        text-align: right;\n",
       "    }\n",
       "</style>\n",
       "<table border=\"1\" class=\"dataframe\">\n",
       "  <thead>\n",
       "    <tr style=\"text-align: right;\">\n",
       "      <th></th>\n",
       "      <th>chromosome</th>\n",
       "      <th>pos</th>\n",
       "      <th>ref</th>\n",
       "      <th>alt</th>\n",
       "      <th>AC</th>\n",
       "      <th>AN</th>\n",
       "      <th>closest_TSS</th>\n",
       "      <th>dist_to_TSS</th>\n",
       "      <th>consequence</th>\n",
       "      <th>model_llr</th>\n",
       "      <th>alt_AF</th>\n",
       "      <th>ref_AF</th>\n",
       "      <th>alt_AC</th>\n",
       "      <th>ref_AC</th>\n",
       "      <th>AF</th>\n",
       "    </tr>\n",
       "  </thead>\n",
       "  <tbody>\n",
       "    <tr>\n",
       "      <td>0</td>\n",
       "      <td>Chr5</td>\n",
       "      <td>500</td>\n",
       "      <td>C</td>\n",
       "      <td>T</td>\n",
       "      <td>376</td>\n",
       "      <td>2078</td>\n",
       "      <td>AT5G01010.2</td>\n",
       "      <td>4494</td>\n",
       "      <td>downstream_gene_variant</td>\n",
       "      <td>0.902710</td>\n",
       "      <td>0.180943</td>\n",
       "      <td>0.819057</td>\n",
       "      <td>376</td>\n",
       "      <td>1702</td>\n",
       "      <td>0.180943</td>\n",
       "    </tr>\n",
       "    <tr>\n",
       "      <td>1</td>\n",
       "      <td>Chr5</td>\n",
       "      <td>504</td>\n",
       "      <td>T</td>\n",
       "      <td>C</td>\n",
       "      <td>2</td>\n",
       "      <td>2088</td>\n",
       "      <td>AT5G01010.2</td>\n",
       "      <td>4490</td>\n",
       "      <td>intergenic_variant</td>\n",
       "      <td>-0.523748</td>\n",
       "      <td>0.000958</td>\n",
       "      <td>0.999042</td>\n",
       "      <td>2</td>\n",
       "      <td>2086</td>\n",
       "      <td>0.000958</td>\n",
       "    </tr>\n",
       "    <tr>\n",
       "      <td>2</td>\n",
       "      <td>Chr5</td>\n",
       "      <td>505</td>\n",
       "      <td>A</td>\n",
       "      <td>G</td>\n",
       "      <td>4</td>\n",
       "      <td>2110</td>\n",
       "      <td>AT5G01010.2</td>\n",
       "      <td>4489</td>\n",
       "      <td>intergenic_variant</td>\n",
       "      <td>-0.758839</td>\n",
       "      <td>0.001896</td>\n",
       "      <td>0.998104</td>\n",
       "      <td>4</td>\n",
       "      <td>2106</td>\n",
       "      <td>0.001896</td>\n",
       "    </tr>\n",
       "    <tr>\n",
       "      <td>3</td>\n",
       "      <td>Chr5</td>\n",
       "      <td>510</td>\n",
       "      <td>G</td>\n",
       "      <td>A</td>\n",
       "      <td>6</td>\n",
       "      <td>2122</td>\n",
       "      <td>AT5G01010.2</td>\n",
       "      <td>4484</td>\n",
       "      <td>intergenic_variant</td>\n",
       "      <td>1.105072</td>\n",
       "      <td>0.002828</td>\n",
       "      <td>0.997172</td>\n",
       "      <td>6</td>\n",
       "      <td>2116</td>\n",
       "      <td>0.002828</td>\n",
       "    </tr>\n",
       "    <tr>\n",
       "      <td>4</td>\n",
       "      <td>Chr5</td>\n",
       "      <td>512</td>\n",
       "      <td>A</td>\n",
       "      <td>G</td>\n",
       "      <td>2</td>\n",
       "      <td>2126</td>\n",
       "      <td>AT5G01010.2</td>\n",
       "      <td>4482</td>\n",
       "      <td>intergenic_variant</td>\n",
       "      <td>-1.055077</td>\n",
       "      <td>0.000941</td>\n",
       "      <td>0.999059</td>\n",
       "      <td>2</td>\n",
       "      <td>2124</td>\n",
       "      <td>0.000941</td>\n",
       "    </tr>\n",
       "    <tr>\n",
       "      <td>...</td>\n",
       "      <td>...</td>\n",
       "      <td>...</td>\n",
       "      <td>...</td>\n",
       "      <td>...</td>\n",
       "      <td>...</td>\n",
       "      <td>...</td>\n",
       "      <td>...</td>\n",
       "      <td>...</td>\n",
       "      <td>...</td>\n",
       "      <td>...</td>\n",
       "      <td>...</td>\n",
       "      <td>...</td>\n",
       "      <td>...</td>\n",
       "      <td>...</td>\n",
       "      <td>...</td>\n",
       "    </tr>\n",
       "    <tr>\n",
       "      <td>1444080</td>\n",
       "      <td>Chr5</td>\n",
       "      <td>26974897</td>\n",
       "      <td>C</td>\n",
       "      <td>T</td>\n",
       "      <td>6</td>\n",
       "      <td>2074</td>\n",
       "      <td>AT5G67640.1</td>\n",
       "      <td>-4256</td>\n",
       "      <td>intergenic_variant</td>\n",
       "      <td>0.127048</td>\n",
       "      <td>0.002893</td>\n",
       "      <td>0.997107</td>\n",
       "      <td>6</td>\n",
       "      <td>2068</td>\n",
       "      <td>0.002893</td>\n",
       "    </tr>\n",
       "    <tr>\n",
       "      <td>1444081</td>\n",
       "      <td>Chr5</td>\n",
       "      <td>26974907</td>\n",
       "      <td>G</td>\n",
       "      <td>A</td>\n",
       "      <td>2</td>\n",
       "      <td>2050</td>\n",
       "      <td>AT5G67640.1</td>\n",
       "      <td>-4266</td>\n",
       "      <td>intergenic_variant</td>\n",
       "      <td>0.811651</td>\n",
       "      <td>0.000976</td>\n",
       "      <td>0.999024</td>\n",
       "      <td>2</td>\n",
       "      <td>2048</td>\n",
       "      <td>0.000976</td>\n",
       "    </tr>\n",
       "    <tr>\n",
       "      <td>1444082</td>\n",
       "      <td>Chr5</td>\n",
       "      <td>26974913</td>\n",
       "      <td>C</td>\n",
       "      <td>T</td>\n",
       "      <td>6</td>\n",
       "      <td>2042</td>\n",
       "      <td>AT5G67640.1</td>\n",
       "      <td>-4272</td>\n",
       "      <td>intergenic_variant</td>\n",
       "      <td>0.339191</td>\n",
       "      <td>0.002938</td>\n",
       "      <td>0.997062</td>\n",
       "      <td>6</td>\n",
       "      <td>2036</td>\n",
       "      <td>0.002938</td>\n",
       "    </tr>\n",
       "    <tr>\n",
       "      <td>1444083</td>\n",
       "      <td>Chr5</td>\n",
       "      <td>26974918</td>\n",
       "      <td>C</td>\n",
       "      <td>T</td>\n",
       "      <td>4</td>\n",
       "      <td>2044</td>\n",
       "      <td>AT5G67640.1</td>\n",
       "      <td>-4277</td>\n",
       "      <td>intergenic_variant</td>\n",
       "      <td>0.717914</td>\n",
       "      <td>0.001957</td>\n",
       "      <td>0.998043</td>\n",
       "      <td>4</td>\n",
       "      <td>2040</td>\n",
       "      <td>0.001957</td>\n",
       "    </tr>\n",
       "    <tr>\n",
       "      <td>1444084</td>\n",
       "      <td>Chr5</td>\n",
       "      <td>26974940</td>\n",
       "      <td>G</td>\n",
       "      <td>T</td>\n",
       "      <td>2</td>\n",
       "      <td>2004</td>\n",
       "      <td>AT5G67640.1</td>\n",
       "      <td>-4299</td>\n",
       "      <td>intergenic_variant</td>\n",
       "      <td>1.062749</td>\n",
       "      <td>0.000998</td>\n",
       "      <td>0.999002</td>\n",
       "      <td>2</td>\n",
       "      <td>2002</td>\n",
       "      <td>0.000998</td>\n",
       "    </tr>\n",
       "  </tbody>\n",
       "</table>\n",
       "<p>1444061 rows × 15 columns</p>\n",
       "</div>"
      ],
      "text/plain": [
       "        chromosome       pos ref alt   AC    AN  closest_TSS  dist_to_TSS  \\\n",
       "0             Chr5       500   C   T  376  2078  AT5G01010.2         4494   \n",
       "1             Chr5       504   T   C    2  2088  AT5G01010.2         4490   \n",
       "2             Chr5       505   A   G    4  2110  AT5G01010.2         4489   \n",
       "3             Chr5       510   G   A    6  2122  AT5G01010.2         4484   \n",
       "4             Chr5       512   A   G    2  2126  AT5G01010.2         4482   \n",
       "...            ...       ...  ..  ..  ...   ...          ...          ...   \n",
       "1444080       Chr5  26974897   C   T    6  2074  AT5G67640.1        -4256   \n",
       "1444081       Chr5  26974907   G   A    2  2050  AT5G67640.1        -4266   \n",
       "1444082       Chr5  26974913   C   T    6  2042  AT5G67640.1        -4272   \n",
       "1444083       Chr5  26974918   C   T    4  2044  AT5G67640.1        -4277   \n",
       "1444084       Chr5  26974940   G   T    2  2004  AT5G67640.1        -4299   \n",
       "\n",
       "                     consequence  model_llr    alt_AF    ref_AF  alt_AC  \\\n",
       "0        downstream_gene_variant   0.902710  0.180943  0.819057     376   \n",
       "1             intergenic_variant  -0.523748  0.000958  0.999042       2   \n",
       "2             intergenic_variant  -0.758839  0.001896  0.998104       4   \n",
       "3             intergenic_variant   1.105072  0.002828  0.997172       6   \n",
       "4             intergenic_variant  -1.055077  0.000941  0.999059       2   \n",
       "...                          ...        ...       ...       ...     ...   \n",
       "1444080       intergenic_variant   0.127048  0.002893  0.997107       6   \n",
       "1444081       intergenic_variant   0.811651  0.000976  0.999024       2   \n",
       "1444082       intergenic_variant   0.339191  0.002938  0.997062       6   \n",
       "1444083       intergenic_variant   0.717914  0.001957  0.998043       4   \n",
       "1444084       intergenic_variant   1.062749  0.000998  0.999002       2   \n",
       "\n",
       "         ref_AC        AF  \n",
       "0          1702  0.180943  \n",
       "1          2086  0.000958  \n",
       "2          2106  0.001896  \n",
       "3          2116  0.002828  \n",
       "4          2124  0.000941  \n",
       "...         ...       ...  \n",
       "1444080    2068  0.002893  \n",
       "1444081    2048  0.000976  \n",
       "1444082    2036  0.002938  \n",
       "1444083    2040  0.001957  \n",
       "1444084    2002  0.000998  \n",
       "\n",
       "[1444061 rows x 15 columns]"
      ]
     },
     "execution_count": 41,
     "metadata": {},
     "output_type": "execute_result"
    }
   ],
   "source": [
    "#model_name = \"window-128_tokenization-no_model-bert\"\n",
    "#model_name = \"window-1000_tokenization-bpe8192_model-bert\"\n",
    "model_name = \"window-128_tokenization-no_model-convnet\"\n",
    "\n",
    "df = pd.read_parquet(f\"vep_full_{model_name}.parquet\")\n",
    "pred_ref_cols = df.columns[df.columns.str.startswith(\"model_pred_ref_\")]\n",
    "pred_alt_cols = df.columns[df.columns.str.startswith(\"model_pred_alt_\")]\n",
    "pred_cols = np.concatenate([pred_ref_cols, pred_alt_cols])\n",
    "df = df[df.AN >= 2000]\n",
    "df = df[(df.AC != 0) & (df.AC != df.AN)]\n",
    "#df[\"AF\"] = df.AC / df.AN\n",
    "#df = df[df.AF < 0.5]\n",
    "df[\"alt_AF\"] = df.AC / df.AN\n",
    "df.model_llr = df.apply(lambda row: row.model_llr if row.alt_AF < 0.5 else -row.model_llr, axis=1)\n",
    "df[\"ref_AF\"] = 1 - df.alt_AF\n",
    "df[\"alt_AC\"] = df.AC\n",
    "df[\"ref_AC\"] = df.AN - df.AC\n",
    "df[\"AC\"] = df[[\"ref_AC\", \"alt_AC\"]].min(axis=1)\n",
    "df[\"AF\"] = df[[\"ref_AF\", \"alt_AF\"]].min(axis=1)\n",
    "df"
   ]
  },
  {
   "cell_type": "code",
   "execution_count": 42,
   "metadata": {},
   "outputs": [],
   "source": [
    "df.consequence = df.consequence.apply(lambda x: ','.join(sorted(list(set(x.split(\",\"))))))"
   ]
  },
  {
   "cell_type": "code",
   "execution_count": 43,
   "metadata": {},
   "outputs": [
    {
     "data": {
      "text/plain": [
       "<matplotlib.axes._subplots.AxesSubplot at 0x2b3ee1511e50>"
      ]
     },
     "execution_count": 43,
     "metadata": {},
     "output_type": "execute_result"
    },
    {
     "data": {
      "image/png": "[encoded data removed]",
      "text/plain": [
       "<Figure size 432x288 with 1 Axes>"
      ]
     },
     "metadata": {
      "needs_background": "light"
     },
     "output_type": "display_data"
    }
   ],
   "source": [
    "df.model_llr.hist()"
   ]
  },
  {
   "cell_type": "code",
   "execution_count": 44,
   "metadata": {},
   "outputs": [
    {
     "data": {
      "text/plain": [
       "SpearmanrResult(correlation=0.039096699899264564, pvalue=0.0)"
      ]
     },
     "execution_count": 44,
     "metadata": {},
     "output_type": "execute_result"
    }
   ],
   "source": [
    "spearmanr(df.AC, df.model_llr)"
   ]
  },
  {
   "cell_type": "code",
   "execution_count": 45,
   "metadata": {},
   "outputs": [
    {
     "data": {
      "text/plain": [
       "Rare       887015\n",
       "Neither    343496\n",
       "Common     213550\n",
       "Name: Status, dtype: int64"
      ]
     },
     "execution_count": 45,
     "metadata": {},
     "output_type": "execute_result"
    }
   ],
   "source": [
    "df[\"Status\"] = \"Neither\"\n",
    "df.loc[df.AC <= 10, \"Status\"] = \"Rare\"\n",
    "df.loc[df.AC > 100, \"Status\"] = \"Common\"\n",
    "df.Status.value_counts()"
   ]
  },
  {
   "cell_type": "code",
   "execution_count": 46,
   "metadata": {},
   "outputs": [
    {
     "data": {
      "text/plain": [
       "MannwhitneyuResult(statistic=88989037986.0, pvalue=0.0)"
      ]
     },
     "execution_count": 46,
     "metadata": {},
     "output_type": "execute_result"
    }
   ],
   "source": [
    "mannwhitneyu(df.loc[df.Status==\"Rare\", \"model_llr\"], df.loc[df.Status==\"Common\", \"model_llr\"], alternative=\"less\")"
   ]
  },
  {
   "cell_type": "code",
   "execution_count": 47,
   "metadata": {},
   "outputs": [
    {
     "data": {
      "text/plain": [
       "<matplotlib.axes._subplots.AxesSubplot at 0x2b3ebff132d0>"
      ]
     },
     "execution_count": 47,
     "metadata": {},
     "output_type": "execute_result"
    },
    {
     "data": {
      "image/png": "[encoded data removed]",
      "text/plain": [
       "<Figure size 432x288 with 1 Axes>"
      ]
     },
     "metadata": {
      "needs_background": "light"
     },
     "output_type": "display_data"
    }
   ],
   "source": [
    "sns.boxplot(data=df[df.Status.isin([\"Rare\", \"Common\"])], x=\"Status\", y=\"model_llr\")"
   ]
  },
  {
   "cell_type": "code",
   "execution_count": 48,
   "metadata": {},
   "outputs": [
    {
     "data": {
      "image/png": "[encoded data removed]",
      "text/plain": [
       "<Figure size 432x432 with 1 Axes>"
      ]
     },
     "metadata": {
      "needs_background": "light"
     },
     "output_type": "display_data"
    }
   ],
   "source": [
    "plt.figure(figsize=(6, 6))\n",
    "plt.scatter(\n",
    "    np.percentile(df[df.Status==\"Common\"].model_llr, np.arange(1, 100)),\n",
    "    np.percentile(df[df.Status==\"Rare\"].model_llr, np.arange(1, 100)),\n",
    "    s=4,\n",
    ")\n",
    "plt.xlabel(\"log-likelihood ratio percentiles (Common variants)\")\n",
    "plt.ylabel(\"log-likelihood ratio percentiles (Rare variants)\")\n",
    "plt.plot([-3, 3], [-3, 3], \"--\", color=\"gray\")\n",
    "plt.gca().set_aspect('equal', 'box')"
   ]
  },
  {
   "cell_type": "code",
   "execution_count": 49,
   "metadata": {},
   "outputs": [
    {
     "data": {
      "text/plain": [
       "intergenic_variant                                                                                                478418\n",
       "intron_variant                                                                                                    237750\n",
       "missense_variant                                                                                                  187997\n",
       "synonymous_variant                                                                                                141138\n",
       "3_prime_UTR_variant                                                                                                63951\n",
       "                                                                                                                   ...  \n",
       "downstream_gene_variant,non_coding_transcript_exon_variant,stop_retained_variant,synonymous_variant                    1\n",
       "intron_variant,splice_acceptor_variant,splice_region_variant,upstream_gene_variant                                     1\n",
       "intron_variant,non_coding_transcript_exon_variant,synonymous_variant,upstream_gene_variant                             1\n",
       "3_prime_UTR_variant,downstream_gene_variant,intron_variant,non_coding_transcript_variant,splice_region_variant         1\n",
       "splice_donor_variant,stop_gained                                                                                       1\n",
       "Name: consequence, Length: 560, dtype: int64"
      ]
     },
     "execution_count": 49,
     "metadata": {},
     "output_type": "execute_result"
    }
   ],
   "source": [
    "df.consequence.value_counts()"
   ]
  },
  {
   "cell_type": "code",
   "execution_count": 50,
   "metadata": {},
   "outputs": [
    {
     "data": {
      "text/plain": [
       "intergenic_variant                               478418\n",
       "intron_variant                                   237750\n",
       "missense_variant                                 187997\n",
       "synonymous_variant                               141138\n",
       "3_prime_UTR_variant                               63951\n",
       "upstream_gene_variant                             58486\n",
       "5_prime_UTR_variant                               48786\n",
       "downstream_gene_variant                           47564\n",
       "3_prime_UTR_variant,downstream_gene_variant       20348\n",
       "intron_variant,splice_region_variant              19555\n",
       "5_prime_UTR_variant,intron_variant                12675\n",
       "5_prime_UTR_variant,upstream_gene_variant         10623\n",
       "non_coding_transcript_exon_variant                 9746\n",
       "downstream_gene_variant,upstream_gene_variant      9600\n",
       "3_prime_UTR_variant,intron_variant                 8428\n",
       "3_prime_UTR_variant,missense_variant               5823\n",
       "3_prime_UTR_variant,upstream_gene_variant          4890\n",
       "3_prime_UTR_variant,synonymous_variant             4301\n",
       "intron_variant,upstream_gene_variant               4115\n",
       "intron_variant,missense_variant                    3955\n",
       "Name: consequence, dtype: int64"
      ]
     },
     "execution_count": 50,
     "metadata": {},
     "output_type": "execute_result"
    }
   ],
   "source": [
    "df.consequence.value_counts().head(20)"
   ]
  },
  {
   "cell_type": "code",
   "execution_count": 51,
   "metadata": {},
   "outputs": [
    {
     "data": {
      "text/plain": [
       "3478"
      ]
     },
     "execution_count": 51,
     "metadata": {},
     "output_type": "execute_result"
    }
   ],
   "source": [
    "(df.consequence==\"stop_gained\").sum()"
   ]
  },
  {
   "cell_type": "code",
   "execution_count": 57,
   "metadata": {},
   "outputs": [
    {
     "data": {
      "text/html": [
       "<div>\n",
       "<style scoped>\n",
       "    .dataframe tbody tr th:only-of-type {\n",
       "        vertical-align: middle;\n",
       "    }\n",
       "\n",
       "    .dataframe tbody tr th {\n",
       "        vertical-align: top;\n",
       "    }\n",
       "\n",
       "    .dataframe thead th {\n",
       "        text-align: right;\n",
       "    }\n",
       "</style>\n",
       "<table border=\"1\" class=\"dataframe\">\n",
       "  <thead>\n",
       "    <tr style=\"text-align: right;\">\n",
       "      <th></th>\n",
       "      <th>mean_model_llr</th>\n",
       "      <th>counts</th>\n",
       "    </tr>\n",
       "    <tr>\n",
       "      <th>consequence</th>\n",
       "      <th></th>\n",
       "      <th></th>\n",
       "    </tr>\n",
       "  </thead>\n",
       "  <tbody>\n",
       "    <tr>\n",
       "      <td>stop_gained</td>\n",
       "      <td>-0.910304</td>\n",
       "      <td>3478</td>\n",
       "    </tr>\n",
       "    <tr>\n",
       "      <td>5_prime_UTR_variant</td>\n",
       "      <td>-0.283451</td>\n",
       "      <td>48786</td>\n",
       "    </tr>\n",
       "    <tr>\n",
       "      <td>5_prime_UTR_variant,upstream_gene_variant</td>\n",
       "      <td>-0.266545</td>\n",
       "      <td>10623</td>\n",
       "    </tr>\n",
       "    <tr>\n",
       "      <td>5_prime_UTR_variant,downstream_gene_variant</td>\n",
       "      <td>-0.263992</td>\n",
       "      <td>3355</td>\n",
       "    </tr>\n",
       "    <tr>\n",
       "      <td>5_prime_UTR_variant,intron_variant</td>\n",
       "      <td>-0.213977</td>\n",
       "      <td>12675</td>\n",
       "    </tr>\n",
       "    <tr>\n",
       "      <td>intergenic_variant</td>\n",
       "      <td>-0.197423</td>\n",
       "      <td>478418</td>\n",
       "    </tr>\n",
       "    <tr>\n",
       "      <td>downstream_gene_variant,upstream_gene_variant</td>\n",
       "      <td>-0.190294</td>\n",
       "      <td>9600</td>\n",
       "    </tr>\n",
       "    <tr>\n",
       "      <td>5_prime_UTR_variant,missense_variant</td>\n",
       "      <td>-0.187545</td>\n",
       "      <td>3610</td>\n",
       "    </tr>\n",
       "    <tr>\n",
       "      <td>intron_variant,splice_region_variant</td>\n",
       "      <td>-0.187406</td>\n",
       "      <td>19555</td>\n",
       "    </tr>\n",
       "    <tr>\n",
       "      <td>3_prime_UTR_variant,upstream_gene_variant</td>\n",
       "      <td>-0.181787</td>\n",
       "      <td>4890</td>\n",
       "    </tr>\n",
       "    <tr>\n",
       "      <td>upstream_gene_variant</td>\n",
       "      <td>-0.180347</td>\n",
       "      <td>58486</td>\n",
       "    </tr>\n",
       "    <tr>\n",
       "      <td>intron_variant,upstream_gene_variant</td>\n",
       "      <td>-0.173899</td>\n",
       "      <td>4115</td>\n",
       "    </tr>\n",
       "    <tr>\n",
       "      <td>downstream_gene_variant,missense_variant</td>\n",
       "      <td>-0.171771</td>\n",
       "      <td>3868</td>\n",
       "    </tr>\n",
       "    <tr>\n",
       "      <td>downstream_gene_variant,intron_variant</td>\n",
       "      <td>-0.158084</td>\n",
       "      <td>3495</td>\n",
       "    </tr>\n",
       "    <tr>\n",
       "      <td>missense_variant</td>\n",
       "      <td>-0.157919</td>\n",
       "      <td>187997</td>\n",
       "    </tr>\n",
       "    <tr>\n",
       "      <td>3_prime_UTR_variant</td>\n",
       "      <td>-0.157679</td>\n",
       "      <td>63951</td>\n",
       "    </tr>\n",
       "    <tr>\n",
       "      <td>3_prime_UTR_variant,missense_variant</td>\n",
       "      <td>-0.151304</td>\n",
       "      <td>5823</td>\n",
       "    </tr>\n",
       "    <tr>\n",
       "      <td>intron_variant,missense_variant</td>\n",
       "      <td>-0.147361</td>\n",
       "      <td>3955</td>\n",
       "    </tr>\n",
       "    <tr>\n",
       "      <td>downstream_gene_variant</td>\n",
       "      <td>-0.138082</td>\n",
       "      <td>47564</td>\n",
       "    </tr>\n",
       "    <tr>\n",
       "      <td>3_prime_UTR_variant,downstream_gene_variant</td>\n",
       "      <td>-0.131624</td>\n",
       "      <td>20348</td>\n",
       "    </tr>\n",
       "    <tr>\n",
       "      <td>intron_variant</td>\n",
       "      <td>-0.119216</td>\n",
       "      <td>237750</td>\n",
       "    </tr>\n",
       "    <tr>\n",
       "      <td>non_coding_transcript_exon_variant</td>\n",
       "      <td>-0.112495</td>\n",
       "      <td>9746</td>\n",
       "    </tr>\n",
       "    <tr>\n",
       "      <td>3_prime_UTR_variant,intron_variant</td>\n",
       "      <td>-0.109235</td>\n",
       "      <td>8428</td>\n",
       "    </tr>\n",
       "    <tr>\n",
       "      <td>synonymous_variant</td>\n",
       "      <td>-0.092410</td>\n",
       "      <td>141138</td>\n",
       "    </tr>\n",
       "    <tr>\n",
       "      <td>3_prime_UTR_variant,synonymous_variant</td>\n",
       "      <td>-0.068785</td>\n",
       "      <td>4301</td>\n",
       "    </tr>\n",
       "  </tbody>\n",
       "</table>\n",
       "</div>"
      ],
      "text/plain": [
       "                                               mean_model_llr  counts\n",
       "consequence                                                          \n",
       "stop_gained                                         -0.910304    3478\n",
       "5_prime_UTR_variant                                 -0.283451   48786\n",
       "5_prime_UTR_variant,upstream_gene_variant           -0.266545   10623\n",
       "5_prime_UTR_variant,downstream_gene_variant         -0.263992    3355\n",
       "5_prime_UTR_variant,intron_variant                  -0.213977   12675\n",
       "intergenic_variant                                  -0.197423  478418\n",
       "downstream_gene_variant,upstream_gene_variant       -0.190294    9600\n",
       "5_prime_UTR_variant,missense_variant                -0.187545    3610\n",
       "intron_variant,splice_region_variant                -0.187406   19555\n",
       "3_prime_UTR_variant,upstream_gene_variant           -0.181787    4890\n",
       "upstream_gene_variant                               -0.180347   58486\n",
       "intron_variant,upstream_gene_variant                -0.173899    4115\n",
       "downstream_gene_variant,missense_variant            -0.171771    3868\n",
       "downstream_gene_variant,intron_variant              -0.158084    3495\n",
       "missense_variant                                    -0.157919  187997\n",
       "3_prime_UTR_variant                                 -0.157679   63951\n",
       "3_prime_UTR_variant,missense_variant                -0.151304    5823\n",
       "intron_variant,missense_variant                     -0.147361    3955\n",
       "downstream_gene_variant                             -0.138082   47564\n",
       "3_prime_UTR_variant,downstream_gene_variant         -0.131624   20348\n",
       "intron_variant                                      -0.119216  237750\n",
       "non_coding_transcript_exon_variant                  -0.112495    9746\n",
       "3_prime_UTR_variant,intron_variant                  -0.109235    8428\n",
       "synonymous_variant                                  -0.092410  141138\n",
       "3_prime_UTR_variant,synonymous_variant              -0.068785    4301"
      ]
     },
     "execution_count": 57,
     "metadata": {},
     "output_type": "execute_result"
    }
   ],
   "source": [
    "df2 = df.groupby(\"consequence\").agg({\"model_llr\": \"mean\", \"pos\": \"size\"}).rename(columns={\"model_llr\": \"mean_model_llr\", \"pos\": \"counts\"})\n",
    "df2 = df2[df2.counts >= 3000].sort_values(\"mean_model_llr\")\n",
    "df2"
   ]
  },
  {
   "cell_type": "code",
   "execution_count": 60,
   "metadata": {},
   "outputs": [
    {
     "data": {
      "image/png": "[encoded data removed]",
      "text/plain": [
       "<Figure size 288x576 with 1 Axes>"
      ]
     },
     "metadata": {
      "needs_background": "light"
     },
     "output_type": "display_data"
    }
   ],
   "source": [
    "plt.figure(figsize=(4,8))\n",
    "ax = sns.barplot(data=df2.reset_index(), y=\"consequence\", x=\"mean_model_llr\", color=\"C0\")\n",
    "#ax.set_xticklabels(ax.get_xticklabels(),rotation=90);\n",
    "plt.savefig(\"llr_by_consequence.pdf\", bbox_inches='tight')"
   ]
  },
  {
   "cell_type": "code",
   "execution_count": 53,
   "metadata": {},
   "outputs": [
    {
     "data": {
      "image/png": "[encoded data removed]",
      "text/plain": [
       "<Figure size 432x288 with 1 Axes>"
      ]
     },
     "metadata": {
      "needs_background": "light"
     },
     "output_type": "display_data"
    }
   ],
   "source": [
    "ax = sns.barplot(data=df[df.consequence.isin(df.consequence.value_counts().head(8).index)], x=\"consequence\", y=\"model_llr\")\n",
    "ax.set_xticklabels(ax.get_xticklabels(),rotation=90);"
   ]
  },
  {
   "cell_type": "code",
   "execution_count": null,
   "metadata": {},
   "outputs": [],
   "source": []
  }
 ],
 "metadata": {
  "kernelspec": {
   "display_name": "Python 3.7",
   "language": "python",
   "name": "python3"
  },
  "language_info": {
   "codemirror_mode": {
    "name": "ipython",
    "version": 3
   },
   "file_extension": ".py",
   "mimetype": "text/x-python",
   "name": "python",
   "nbconvert_exporter": "python",
   "pygments_lexer": "ipython3",
   "version": "3.7.4"
  }
 },
 "nbformat": 4,
 "nbformat_minor": 4
}
