{
 "cells": [
  {
   "cell_type": "code",
   "execution_count": 1,
   "id": "caca1568",
   "metadata": {},
   "outputs": [],
   "source": [
    "import numpy as np\n",
    "import pandas as pd\n",
    "import seaborn as sns"
   ]
  },
  {
   "cell_type": "code",
   "execution_count": 2,
   "id": "418a743e",
   "metadata": {},
   "outputs": [],
   "source": [
    "data_paths = [\n",
    "    \"../../data/mlm/windows/five_prime_UTR.test/512/128/seqs.txt\",\n",
    "    \"../../data/mlm/windows/three_prime_UTR.test/512/128/seqs.txt\",\n",
    "    \"../../data/mlm/windows/CDS.test/512/128/seqs.txt\",\n",
    "    \"../../data/mlm/windows/val/512/256/seqs.txt\",\n",
    "]\n",
    "model_paths = [\n",
    "    \"results_512_convnet/checkpoint-1000000\",\n",
    "    \"results_512_convnet_ftAth_alone/checkpoint-100000\",\n",
    "    \"results_512_convnet_ftAth_alone/checkpoint-500000\",\n",
    "    \"results_512_convnet_ftAth_alone/checkpoint-1000000\",\n",
    "]"
   ]
  },
  {
   "cell_type": "code",
   "execution_count": 9,
   "id": "bcccd78e",
   "metadata": {},
   "outputs": [
    {
     "data": {
      "text/html": [
       "<div>\n",
       "<style scoped>\n",
       "    .dataframe tbody tr th:only-of-type {\n",
       "        vertical-align: middle;\n",
       "    }\n",
       "\n",
       "    .dataframe tbody tr th {\n",
       "        vertical-align: top;\n",
       "    }\n",
       "\n",
       "    .dataframe thead th {\n",
       "        text-align: right;\n",
       "    }\n",
       "</style>\n",
       "<table border=\"1\" class=\"dataframe\">\n",
       "  <thead>\n",
       "    <tr style=\"text-align: right;\">\n",
       "      <th></th>\n",
       "      <th>data_path</th>\n",
       "      <th>model_path</th>\n",
       "      <th>perplexity</th>\n",
       "    </tr>\n",
       "  </thead>\n",
       "  <tbody>\n",
       "    <tr>\n",
       "      <th>0</th>\n",
       "      <td>../../data/mlm/windows/five_prime_UTR.test/512...</td>\n",
       "      <td>results_512_convnet/checkpoint-1000000</td>\n",
       "      <td>3.239057</td>\n",
       "    </tr>\n",
       "    <tr>\n",
       "      <th>1</th>\n",
       "      <td>../../data/mlm/windows/five_prime_UTR.test/512...</td>\n",
       "      <td>results_512_convnet_ftAth_alone/checkpoint-100000</td>\n",
       "      <td>3.217446</td>\n",
       "    </tr>\n",
       "    <tr>\n",
       "      <th>2</th>\n",
       "      <td>../../data/mlm/windows/five_prime_UTR.test/512...</td>\n",
       "      <td>results_512_convnet_ftAth_alone/checkpoint-500000</td>\n",
       "      <td>3.216599</td>\n",
       "    </tr>\n",
       "    <tr>\n",
       "      <th>3</th>\n",
       "      <td>../../data/mlm/windows/five_prime_UTR.test/512...</td>\n",
       "      <td>results_512_convnet_ftAth_alone/checkpoint-100...</td>\n",
       "      <td>3.210004</td>\n",
       "    </tr>\n",
       "    <tr>\n",
       "      <th>4</th>\n",
       "      <td>../../data/mlm/windows/three_prime_UTR.test/51...</td>\n",
       "      <td>results_512_convnet/checkpoint-1000000</td>\n",
       "      <td>3.361449</td>\n",
       "    </tr>\n",
       "    <tr>\n",
       "      <th>5</th>\n",
       "      <td>../../data/mlm/windows/three_prime_UTR.test/51...</td>\n",
       "      <td>results_512_convnet_ftAth_alone/checkpoint-100000</td>\n",
       "      <td>3.344506</td>\n",
       "    </tr>\n",
       "    <tr>\n",
       "      <th>6</th>\n",
       "      <td>../../data/mlm/windows/three_prime_UTR.test/51...</td>\n",
       "      <td>results_512_convnet_ftAth_alone/checkpoint-500000</td>\n",
       "      <td>3.341941</td>\n",
       "    </tr>\n",
       "    <tr>\n",
       "      <th>7</th>\n",
       "      <td>../../data/mlm/windows/three_prime_UTR.test/51...</td>\n",
       "      <td>results_512_convnet_ftAth_alone/checkpoint-100...</td>\n",
       "      <td>3.337119</td>\n",
       "    </tr>\n",
       "    <tr>\n",
       "      <th>8</th>\n",
       "      <td>../../data/mlm/windows/CDS.test/512/128/seqs.txt</td>\n",
       "      <td>results_512_convnet/checkpoint-1000000</td>\n",
       "      <td>3.278875</td>\n",
       "    </tr>\n",
       "    <tr>\n",
       "      <th>9</th>\n",
       "      <td>../../data/mlm/windows/CDS.test/512/128/seqs.txt</td>\n",
       "      <td>results_512_convnet_ftAth_alone/checkpoint-100000</td>\n",
       "      <td>3.260254</td>\n",
       "    </tr>\n",
       "    <tr>\n",
       "      <th>10</th>\n",
       "      <td>../../data/mlm/windows/CDS.test/512/128/seqs.txt</td>\n",
       "      <td>results_512_convnet_ftAth_alone/checkpoint-500000</td>\n",
       "      <td>3.241945</td>\n",
       "    </tr>\n",
       "    <tr>\n",
       "      <th>11</th>\n",
       "      <td>../../data/mlm/windows/CDS.test/512/128/seqs.txt</td>\n",
       "      <td>results_512_convnet_ftAth_alone/checkpoint-100...</td>\n",
       "      <td>3.228942</td>\n",
       "    </tr>\n",
       "    <tr>\n",
       "      <th>12</th>\n",
       "      <td>../../data/mlm/windows/val/512/256/seqs.txt</td>\n",
       "      <td>results_512_convnet/checkpoint-1000000</td>\n",
       "      <td>3.152640</td>\n",
       "    </tr>\n",
       "    <tr>\n",
       "      <th>13</th>\n",
       "      <td>../../data/mlm/windows/val/512/256/seqs.txt</td>\n",
       "      <td>results_512_convnet_ftAth_alone/checkpoint-100000</td>\n",
       "      <td>3.006126</td>\n",
       "    </tr>\n",
       "    <tr>\n",
       "      <th>14</th>\n",
       "      <td>../../data/mlm/windows/val/512/256/seqs.txt</td>\n",
       "      <td>results_512_convnet_ftAth_alone/checkpoint-500000</td>\n",
       "      <td>2.979354</td>\n",
       "    </tr>\n",
       "    <tr>\n",
       "      <th>15</th>\n",
       "      <td>../../data/mlm/windows/val/512/256/seqs.txt</td>\n",
       "      <td>results_512_convnet_ftAth_alone/checkpoint-100...</td>\n",
       "      <td>2.969308</td>\n",
       "    </tr>\n",
       "  </tbody>\n",
       "</table>\n",
       "</div>"
      ],
      "text/plain": [
       "                                            data_path  \\\n",
       "0   ../../data/mlm/windows/five_prime_UTR.test/512...   \n",
       "1   ../../data/mlm/windows/five_prime_UTR.test/512...   \n",
       "2   ../../data/mlm/windows/five_prime_UTR.test/512...   \n",
       "3   ../../data/mlm/windows/five_prime_UTR.test/512...   \n",
       "4   ../../data/mlm/windows/three_prime_UTR.test/51...   \n",
       "5   ../../data/mlm/windows/three_prime_UTR.test/51...   \n",
       "6   ../../data/mlm/windows/three_prime_UTR.test/51...   \n",
       "7   ../../data/mlm/windows/three_prime_UTR.test/51...   \n",
       "8    ../../data/mlm/windows/CDS.test/512/128/seqs.txt   \n",
       "9    ../../data/mlm/windows/CDS.test/512/128/seqs.txt   \n",
       "10   ../../data/mlm/windows/CDS.test/512/128/seqs.txt   \n",
       "11   ../../data/mlm/windows/CDS.test/512/128/seqs.txt   \n",
       "12        ../../data/mlm/windows/val/512/256/seqs.txt   \n",
       "13        ../../data/mlm/windows/val/512/256/seqs.txt   \n",
       "14        ../../data/mlm/windows/val/512/256/seqs.txt   \n",
       "15        ../../data/mlm/windows/val/512/256/seqs.txt   \n",
       "\n",
       "                                           model_path  perplexity  \n",
       "0              results_512_convnet/checkpoint-1000000    3.239057  \n",
       "1   results_512_convnet_ftAth_alone/checkpoint-100000    3.217446  \n",
       "2   results_512_convnet_ftAth_alone/checkpoint-500000    3.216599  \n",
       "3   results_512_convnet_ftAth_alone/checkpoint-100...    3.210004  \n",
       "4              results_512_convnet/checkpoint-1000000    3.361449  \n",
       "5   results_512_convnet_ftAth_alone/checkpoint-100000    3.344506  \n",
       "6   results_512_convnet_ftAth_alone/checkpoint-500000    3.341941  \n",
       "7   results_512_convnet_ftAth_alone/checkpoint-100...    3.337119  \n",
       "8              results_512_convnet/checkpoint-1000000    3.278875  \n",
       "9   results_512_convnet_ftAth_alone/checkpoint-100000    3.260254  \n",
       "10  results_512_convnet_ftAth_alone/checkpoint-500000    3.241945  \n",
       "11  results_512_convnet_ftAth_alone/checkpoint-100...    3.228942  \n",
       "12             results_512_convnet/checkpoint-1000000    3.152640  \n",
       "13  results_512_convnet_ftAth_alone/checkpoint-100000    3.006126  \n",
       "14  results_512_convnet_ftAth_alone/checkpoint-500000    2.979354  \n",
       "15  results_512_convnet_ftAth_alone/checkpoint-100...    2.969308  "
      ]
     },
     "execution_count": 9,
     "metadata": {},
     "output_type": "execute_result"
    }
   ],
   "source": [
    "rows = []\n",
    "for data_path in data_paths:\n",
    "    for model_path in model_paths:\n",
    "        path = f\"results/perplexity/{data_path.replace('/', '_')}/{model_path.replace('/', '_')}/perplexity.txt\"\n",
    "        perplexity = float(np.loadtxt(path))\n",
    "        rows.append([data_path, model_path, perplexity])\n",
    "df = pd.DataFrame(rows, columns=[\"data_path\", \"model_path\", \"perplexity\"])\n",
    "df"
   ]
  },
  {
   "cell_type": "code",
   "execution_count": 10,
   "id": "35d45075",
   "metadata": {},
   "outputs": [],
   "source": [
    "df.loc[df.model_path==\"results_512_convnet/checkpoint-1000000\", \"steps\"] = 0\n",
    "df.loc[df.model_path==\"results_512_convnet_ftAth_alone/checkpoint-100000\", \"steps\"] = 100000\n",
    "df.loc[df.model_path==\"results_512_convnet_ftAth_alone/checkpoint-500000\", \"steps\"] = 500000\n",
    "df.loc[df.model_path==\"results_512_convnet_ftAth_alone/checkpoint-1000000\", \"steps\"] = 1000000"
   ]
  },
  {
   "cell_type": "code",
   "execution_count": 12,
   "id": "de79e905",
   "metadata": {},
   "outputs": [],
   "source": [
    "df.loc[df.data_path.str.contains(\"five_prime_UTR\"), \"Region\"] = \"5' UTR\"\n",
    "df.loc[df.data_path.str.contains(\"three_prime_UTR\"), \"Region\"] = \"3' UTR\"\n",
    "df.loc[df.data_path.str.contains(\"CDS\"), \"Region\"] = \"CDS\"\n",
    "df.loc[df.data_path.str.contains(\"val\"), \"Region\"] = \"All\""
   ]
  },
  {
   "cell_type": "code",
   "execution_count": 13,
   "id": "723c4218",
   "metadata": {},
   "outputs": [
    {
     "data": {
      "text/plain": [
       "<AxesSubplot:xlabel='steps', ylabel='perplexity'>"
      ]
     },
     "execution_count": 13,
     "metadata": {},
     "output_type": "execute_result"
    },
    {
     "data": {
      "image/png": "[encoded data removed]",
      "text/plain": [
       "<Figure size 432x288 with 1 Axes>"
      ]
     },
     "metadata": {
      "needs_background": "light"
     },
     "output_type": "display_data"
    }
   ],
   "source": [
    "sns.lineplot(\n",
    "    data=df,\n",
    "    x=\"steps\",\n",
    "    y=\"perplexity\",\n",
    "    hue=\"Region\",\n",
    ")"
   ]
  },
  {
   "cell_type": "code",
   "execution_count": null,
   "id": "c6911367",
   "metadata": {},
   "outputs": [],
   "source": []
  }
 ],
 "metadata": {
  "kernelspec": {
   "display_name": "Python 3.7",
   "language": "python",
   "name": "python3"
  },
  "language_info": {
   "codemirror_mode": {
    "name": "ipython",
    "version": 3
   },
   "file_extension": ".py",
   "mimetype": "text/x-python",
   "name": "python",
   "nbconvert_exporter": "python",
   "pygments_lexer": "ipython3",
   "version": "3.7.4"
  }
 },
 "nbformat": 4,
 "nbformat_minor": 5
}
